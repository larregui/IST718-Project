{
 "cells": [
  {
   "cell_type": "markdown",
   "metadata": {
    "colab_type": "text",
    "id": "view-in-github"
   },
   "source": [
    "<a href=\"https://colab.research.google.com/github/larregui/IST718-Project/blob/main/UFO_Classifier.ipynb\" target=\"_parent\"><img src=\"https://colab.research.google.com/assets/colab-badge.svg\" alt=\"Open In Colab\"/></a>"
   ]
  },
  {
   "cell_type": "markdown",
   "metadata": {
    "id": "je8E4xErOIgL"
   },
   "source": [
    "#Import Libraries"
   ]
  },
  {
   "cell_type": "code",
   "execution_count": 1,
   "metadata": {
    "id": "xgRxdOhGNwpF"
   },
   "outputs": [],
   "source": [
    "import pandas as pd #data frame operations\n",
    "import numpy as np #arrays and math functions\n",
    "#from scipy.stats import uniform #for training and test splits\n",
    "#import statsmodels.api as sm  # statistical models (including regression)\n",
    "#import statsmodels.formula.api as smf  # R-like model specification\n",
    "import matplotlib.pyplot as plt #2D plotting\n",
    "import seaborn as sns #seaborn for plotting\n",
    "#from sklearn.linear_model import LinearRegression\n",
    "#import plotly.graph_objs as go\n",
    "#from plotly import tools\n",
    "#from plotly.offline import iplot, init_notebook_mode"
   ]
  },
  {
   "cell_type": "markdown",
   "metadata": {
    "id": "UULic41zOP2K"
   },
   "source": [
    "#Import Datasets"
   ]
  },
  {
   "cell_type": "code",
   "execution_count": 2,
   "metadata": {
    "id": "2URCJffQON75"
   },
   "outputs": [],
   "source": [
    "# ufo = pd.read_csv(\"/content/newufo.csv\")\n",
    "# wea = pd.read_csv(\"/content/consolidated_weather_V03.csv\")\n",
    "ufo = pd.read_csv(\"newufo.csv\")\n",
    "wea = pd.read_csv(\"consolidated_weather_V03.csv\")"
   ]
  },
  {
   "cell_type": "markdown",
   "metadata": {
    "id": "Zpc7z1RLOk_D"
   },
   "source": [
    "#Data Cleanup"
   ]
  },
  {
   "cell_type": "code",
   "execution_count": 3,
   "metadata": {
    "id": "YHePCLzQTjz6"
   },
   "outputs": [],
   "source": [
    "#change datatype for the following columns\n",
    "ufo[\"latitude\"] = pd.to_numeric(ufo[\"latitude\"], errors=\"coerce\")\n",
    "ufo['datetime'] = (pd.to_datetime(ufo['datetime'], format='%Y/%m/%d'))\n",
    "ufo['date posted'] = (pd.to_datetime(ufo['date posted'], format='%Y/%m/%d'))\n",
    "#add column day\n",
    "ufo['day'] = pd.DatetimeIndex(ufo['datetime']).day\n",
    "#drop unnecessary columns\n",
    "cols2drop=[ 'Unnamed: 0','duration (hours/min)','date posted']\n",
    "ufo=ufo.drop(columns=cols2drop)"
   ]
  },
  {
   "cell_type": "code",
   "execution_count": 4,
   "metadata": {
    "id": "lOMdVKqFLIcG"
   },
   "outputs": [],
   "source": [
    "# Creating seasons column\n",
    "# Seasons of the ufo appearances\n",
    "def output_season_from(x):\n",
    "    \n",
    "    if x in range(3,6):\n",
    "        return \"Spring\"\n",
    "    if x in range(6,9):\n",
    "        return \"Summer\"\n",
    "    if x in range(9,12):\n",
    "        return \"Autumn\"\n",
    "    if x == 12 or x == 1 or x == 2:\n",
    "        return \"Winter\"\n",
    "\n",
    "ufo[\"season\"] = ufo['month'].apply(output_season_from)"
   ]
  },
  {
   "cell_type": "code",
   "execution_count": 5,
   "metadata": {
    "colab": {
     "base_uri": "https://localhost:8080/"
    },
    "id": "MKRJzef_GAn6",
    "outputId": "79b1fbc4-5d75-4b78-a5a0-c42f263841d3"
   },
   "outputs": [
    {
     "data": {
      "text/plain": [
       "(50963, 12)"
      ]
     },
     "execution_count": 5,
     "metadata": {},
     "output_type": "execute_result"
    }
   ],
   "source": [
    "wea['dateInt']=wea['year'].astype(str) + wea['month'].astype(str).str.zfill(2)+ wea['mday'].astype(str).str.zfill(2)\n",
    "wea['datetime'] = pd.to_datetime(wea['dateInt'], format='%Y%m%d')\n",
    "wea['state']=wea['state'].str.lower()\n",
    "wea['city']=wea['city'].str.lower()\n",
    "wea['shape']=wea['shape'].str.lower()\n",
    "cols2drop=[ 'colour','month','pressure','heatindex','windchill', 'precip', \n",
    "            'wgust', 'wdire','dewpt','wspd','hum','conds', 'mday','year','hour','id','dateInt']\n",
    "\n",
    "wea=wea.drop(columns=cols2drop)\n",
    "\n",
    "# Shows all the null values\n",
    "#print(wea.isnull().sum())\n",
    "\n",
    "wea=wea.dropna()\n",
    "wea.shape"
   ]
  },
  {
   "cell_type": "markdown",
   "metadata": {
    "id": "BulI0YkmPBOi"
   },
   "source": [
    "#Merge datatsets"
   ]
  },
  {
   "cell_type": "code",
   "execution_count": 6,
   "metadata": {
    "colab": {
     "base_uri": "https://localhost:8080/",
     "height": 277
    },
    "id": "jBeiKXY4PAnu",
    "outputId": "2e15356d-3f9e-484c-9cd3-4832acf14c29"
   },
   "outputs": [
    {
     "data": {
      "text/html": [
       "<div>\n",
       "<style scoped>\n",
       "    .dataframe tbody tr th:only-of-type {\n",
       "        vertical-align: middle;\n",
       "    }\n",
       "\n",
       "    .dataframe tbody tr th {\n",
       "        vertical-align: top;\n",
       "    }\n",
       "\n",
       "    .dataframe thead th {\n",
       "        text-align: right;\n",
       "    }\n",
       "</style>\n",
       "<table border=\"1\" class=\"dataframe\">\n",
       "  <thead>\n",
       "    <tr style=\"text-align: right;\">\n",
       "      <th></th>\n",
       "      <th>duration (seconds)</th>\n",
       "      <th>latitude</th>\n",
       "      <th>longitude</th>\n",
       "      <th>year</th>\n",
       "      <th>month</th>\n",
       "      <th>military_base_dist</th>\n",
       "      <th>airport_dist</th>\n",
       "      <th>day</th>\n",
       "      <th>temp</th>\n",
       "      <th>hail</th>\n",
       "      <th>rain</th>\n",
       "      <th>vis</th>\n",
       "      <th>thunder</th>\n",
       "      <th>fog</th>\n",
       "      <th>tornado</th>\n",
       "      <th>snow</th>\n",
       "    </tr>\n",
       "  </thead>\n",
       "  <tbody>\n",
       "    <tr>\n",
       "      <th>count</th>\n",
       "      <td>3.535600e+04</td>\n",
       "      <td>35356.000000</td>\n",
       "      <td>35356.000000</td>\n",
       "      <td>35356.000000</td>\n",
       "      <td>35356.000000</td>\n",
       "      <td>35356.000000</td>\n",
       "      <td>35356.000000</td>\n",
       "      <td>35356.000000</td>\n",
       "      <td>35356.000000</td>\n",
       "      <td>35356.0</td>\n",
       "      <td>35356.000000</td>\n",
       "      <td>35356.000000</td>\n",
       "      <td>35356.000000</td>\n",
       "      <td>35356.000000</td>\n",
       "      <td>35356.000000</td>\n",
       "      <td>35356.000000</td>\n",
       "    </tr>\n",
       "    <tr>\n",
       "      <th>mean</th>\n",
       "      <td>3.640002e+03</td>\n",
       "      <td>38.383515</td>\n",
       "      <td>-95.421423</td>\n",
       "      <td>2007.543896</td>\n",
       "      <td>6.889043</td>\n",
       "      <td>5000.481879</td>\n",
       "      <td>3.779888</td>\n",
       "      <td>15.307642</td>\n",
       "      <td>-0.040161</td>\n",
       "      <td>0.0</td>\n",
       "      <td>0.021976</td>\n",
       "      <td>-0.003462</td>\n",
       "      <td>0.005968</td>\n",
       "      <td>0.004101</td>\n",
       "      <td>0.000028</td>\n",
       "      <td>0.004299</td>\n",
       "    </tr>\n",
       "    <tr>\n",
       "      <th>std</th>\n",
       "      <td>2.908908e+05</td>\n",
       "      <td>5.596983</td>\n",
       "      <td>18.223826</td>\n",
       "      <td>4.605761</td>\n",
       "      <td>3.327509</td>\n",
       "      <td>1132.724850</td>\n",
       "      <td>3.878917</td>\n",
       "      <td>8.871921</td>\n",
       "      <td>1.006675</td>\n",
       "      <td>0.0</td>\n",
       "      <td>0.146609</td>\n",
       "      <td>1.054241</td>\n",
       "      <td>0.077022</td>\n",
       "      <td>0.063910</td>\n",
       "      <td>0.005318</td>\n",
       "      <td>0.065428</td>\n",
       "    </tr>\n",
       "    <tr>\n",
       "      <th>min</th>\n",
       "      <td>1.000000e-02</td>\n",
       "      <td>19.063889</td>\n",
       "      <td>-170.478889</td>\n",
       "      <td>1997.000000</td>\n",
       "      <td>1.000000</td>\n",
       "      <td>1579.967092</td>\n",
       "      <td>0.022381</td>\n",
       "      <td>1.000000</td>\n",
       "      <td>-5.419079</td>\n",
       "      <td>0.0</td>\n",
       "      <td>0.000000</td>\n",
       "      <td>-2.740390</td>\n",
       "      <td>0.000000</td>\n",
       "      <td>0.000000</td>\n",
       "      <td>0.000000</td>\n",
       "      <td>0.000000</td>\n",
       "    </tr>\n",
       "    <tr>\n",
       "      <th>25%</th>\n",
       "      <td>3.000000e+01</td>\n",
       "      <td>34.134722</td>\n",
       "      <td>-114.888542</td>\n",
       "      <td>2004.000000</td>\n",
       "      <td>4.000000</td>\n",
       "      <td>3872.748270</td>\n",
       "      <td>1.231377</td>\n",
       "      <td>8.000000</td>\n",
       "      <td>-0.699044</td>\n",
       "      <td>0.0</td>\n",
       "      <td>0.000000</td>\n",
       "      <td>0.064273</td>\n",
       "      <td>0.000000</td>\n",
       "      <td>0.000000</td>\n",
       "      <td>0.000000</td>\n",
       "      <td>0.000000</td>\n",
       "    </tr>\n",
       "    <tr>\n",
       "      <th>50%</th>\n",
       "      <td>1.800000e+02</td>\n",
       "      <td>38.998889</td>\n",
       "      <td>-89.213611</td>\n",
       "      <td>2008.000000</td>\n",
       "      <td>7.000000</td>\n",
       "      <td>5314.815203</td>\n",
       "      <td>2.740357</td>\n",
       "      <td>15.000000</td>\n",
       "      <td>0.077412</td>\n",
       "      <td>0.0</td>\n",
       "      <td>0.000000</td>\n",
       "      <td>0.064273</td>\n",
       "      <td>0.000000</td>\n",
       "      <td>0.000000</td>\n",
       "      <td>0.000000</td>\n",
       "      <td>0.000000</td>\n",
       "    </tr>\n",
       "    <tr>\n",
       "      <th>75%</th>\n",
       "      <td>6.000000e+02</td>\n",
       "      <td>42.011111</td>\n",
       "      <td>-80.699722</td>\n",
       "      <td>2012.000000</td>\n",
       "      <td>10.000000</td>\n",
       "      <td>5868.691832</td>\n",
       "      <td>4.821439</td>\n",
       "      <td>23.000000</td>\n",
       "      <td>0.731270</td>\n",
       "      <td>0.0</td>\n",
       "      <td>0.000000</td>\n",
       "      <td>0.064273</td>\n",
       "      <td>0.000000</td>\n",
       "      <td>0.000000</td>\n",
       "      <td>0.000000</td>\n",
       "      <td>0.000000</td>\n",
       "    </tr>\n",
       "    <tr>\n",
       "      <th>max</th>\n",
       "      <td>5.262320e+07</td>\n",
       "      <td>70.636944</td>\n",
       "      <td>-66.984722</td>\n",
       "      <td>2014.000000</td>\n",
       "      <td>12.000000</td>\n",
       "      <td>7238.415091</td>\n",
       "      <td>56.585655</td>\n",
       "      <td>31.000000</td>\n",
       "      <td>4.102724</td>\n",
       "      <td>0.0</td>\n",
       "      <td>1.000000</td>\n",
       "      <td>30.898139</td>\n",
       "      <td>1.000000</td>\n",
       "      <td>1.000000</td>\n",
       "      <td>1.000000</td>\n",
       "      <td>1.000000</td>\n",
       "    </tr>\n",
       "  </tbody>\n",
       "</table>\n",
       "</div>"
      ],
      "text/plain": [
       "       duration (seconds)      latitude     longitude          year  \\\n",
       "count        3.535600e+04  35356.000000  35356.000000  35356.000000   \n",
       "mean         3.640002e+03     38.383515    -95.421423   2007.543896   \n",
       "std          2.908908e+05      5.596983     18.223826      4.605761   \n",
       "min          1.000000e-02     19.063889   -170.478889   1997.000000   \n",
       "25%          3.000000e+01     34.134722   -114.888542   2004.000000   \n",
       "50%          1.800000e+02     38.998889    -89.213611   2008.000000   \n",
       "75%          6.000000e+02     42.011111    -80.699722   2012.000000   \n",
       "max          5.262320e+07     70.636944    -66.984722   2014.000000   \n",
       "\n",
       "              month  military_base_dist  airport_dist           day  \\\n",
       "count  35356.000000        35356.000000  35356.000000  35356.000000   \n",
       "mean       6.889043         5000.481879      3.779888     15.307642   \n",
       "std        3.327509         1132.724850      3.878917      8.871921   \n",
       "min        1.000000         1579.967092      0.022381      1.000000   \n",
       "25%        4.000000         3872.748270      1.231377      8.000000   \n",
       "50%        7.000000         5314.815203      2.740357     15.000000   \n",
       "75%       10.000000         5868.691832      4.821439     23.000000   \n",
       "max       12.000000         7238.415091     56.585655     31.000000   \n",
       "\n",
       "               temp     hail          rain           vis       thunder  \\\n",
       "count  35356.000000  35356.0  35356.000000  35356.000000  35356.000000   \n",
       "mean      -0.040161      0.0      0.021976     -0.003462      0.005968   \n",
       "std        1.006675      0.0      0.146609      1.054241      0.077022   \n",
       "min       -5.419079      0.0      0.000000     -2.740390      0.000000   \n",
       "25%       -0.699044      0.0      0.000000      0.064273      0.000000   \n",
       "50%        0.077412      0.0      0.000000      0.064273      0.000000   \n",
       "75%        0.731270      0.0      0.000000      0.064273      0.000000   \n",
       "max        4.102724      0.0      1.000000     30.898139      1.000000   \n",
       "\n",
       "                fog       tornado          snow  \n",
       "count  35356.000000  35356.000000  35356.000000  \n",
       "mean       0.004101      0.000028      0.004299  \n",
       "std        0.063910      0.005318      0.065428  \n",
       "min        0.000000      0.000000      0.000000  \n",
       "25%        0.000000      0.000000      0.000000  \n",
       "50%        0.000000      0.000000      0.000000  \n",
       "75%        0.000000      0.000000      0.000000  \n",
       "max        1.000000      1.000000      1.000000  "
      ]
     },
     "execution_count": 6,
     "metadata": {},
     "output_type": "execute_result"
    }
   ],
   "source": [
    "df = pd.merge(ufo, wea, on=[\"city\", \"state\", \"datetime\", \"shape\"])\n",
    "df.describe()"
   ]
  },
  {
   "cell_type": "markdown",
   "metadata": {
    "id": "Eu5VsmAdR9BV"
   },
   "source": [
    "#Classifier"
   ]
  },
  {
   "cell_type": "code",
   "execution_count": 7,
   "metadata": {
    "id": "vtykXi-BR8qz"
   },
   "outputs": [],
   "source": [
    "df.loc[df['tornado'] ==1, 'Credible'] = 'NO'\n",
    "df.loc[df['fog'] ==1, 'Credible'] = 'NO'\n",
    "df.loc[df['snow'] ==1, 'Credible'] = 'NO'\n",
    "df.loc[df['rain'] ==1, 'Credible'] = 'NO'\n",
    "df.loc[df['thunder'] ==1, 'Credible'] = 'NO'\n",
    "df.loc[df['hail'] ==1, 'Credible'] = 'NO'\n",
    "#df.loc[df['vis'] >= 0.064273, 'Credible'] = 'NO'\n",
    "df.loc[df['airport_dist'] <= 1.6, 'Credible'] = 'NO'\n",
    "df.loc[df['military_base_dist'] <= 1.6, 'Credible'] = 'NO'\n",
    "df.loc[(df.month == 1) & (df.day == 1), \"Credible\"] = 'NO'\n",
    "df.loc[(df.month == 7) & (df.day == 4), \"Credible\"] = 'NO'"
   ]
  },
  {
   "cell_type": "code",
   "execution_count": 8,
   "metadata": {
    "colab": {
     "base_uri": "https://localhost:8080/",
     "height": 630
    },
    "id": "XG1ZfthwTTwP",
    "outputId": "fd55d474-4310-45fd-d0ec-42dd2d907b3a"
   },
   "outputs": [
    {
     "data": {
      "text/html": [
       "<div>\n",
       "<style scoped>\n",
       "    .dataframe tbody tr th:only-of-type {\n",
       "        vertical-align: middle;\n",
       "    }\n",
       "\n",
       "    .dataframe tbody tr th {\n",
       "        vertical-align: top;\n",
       "    }\n",
       "\n",
       "    .dataframe thead th {\n",
       "        text-align: right;\n",
       "    }\n",
       "</style>\n",
       "<table border=\"1\" class=\"dataframe\">\n",
       "  <thead>\n",
       "    <tr style=\"text-align: right;\">\n",
       "      <th></th>\n",
       "      <th>datetime</th>\n",
       "      <th>city</th>\n",
       "      <th>state</th>\n",
       "      <th>country</th>\n",
       "      <th>shape</th>\n",
       "      <th>duration (seconds)</th>\n",
       "      <th>comments</th>\n",
       "      <th>latitude</th>\n",
       "      <th>longitude</th>\n",
       "      <th>time</th>\n",
       "      <th>...</th>\n",
       "      <th>season</th>\n",
       "      <th>temp</th>\n",
       "      <th>hail</th>\n",
       "      <th>rain</th>\n",
       "      <th>vis</th>\n",
       "      <th>thunder</th>\n",
       "      <th>fog</th>\n",
       "      <th>tornado</th>\n",
       "      <th>snow</th>\n",
       "      <th>Credible</th>\n",
       "    </tr>\n",
       "  </thead>\n",
       "  <tbody>\n",
       "    <tr>\n",
       "      <th>0</th>\n",
       "      <td>1997-10-10</td>\n",
       "      <td>mesa</td>\n",
       "      <td>az</td>\n",
       "      <td>us</td>\n",
       "      <td>sphere</td>\n",
       "      <td>30.0</td>\n",
       "      <td>A small dark purple quad-thruster craft hoveri...</td>\n",
       "      <td>33.422222</td>\n",
       "      <td>-111.821944</td>\n",
       "      <td>17:00</td>\n",
       "      <td>...</td>\n",
       "      <td>Autumn</td>\n",
       "      <td>1.660974</td>\n",
       "      <td>0</td>\n",
       "      <td>0</td>\n",
       "      <td>0.064273</td>\n",
       "      <td>0</td>\n",
       "      <td>0</td>\n",
       "      <td>0</td>\n",
       "      <td>0</td>\n",
       "      <td>NO</td>\n",
       "    </tr>\n",
       "    <tr>\n",
       "      <th>1</th>\n",
       "      <td>1997-10-10</td>\n",
       "      <td>bonaire</td>\n",
       "      <td>ga</td>\n",
       "      <td>us</td>\n",
       "      <td>triangle</td>\n",
       "      <td>300.0</td>\n",
       "      <td>Triangular Object Sighted at Very Close Range</td>\n",
       "      <td>32.543611</td>\n",
       "      <td>-83.596111</td>\n",
       "      <td>20:00</td>\n",
       "      <td>...</td>\n",
       "      <td>Autumn</td>\n",
       "      <td>0.629105</td>\n",
       "      <td>0</td>\n",
       "      <td>0</td>\n",
       "      <td>0.900445</td>\n",
       "      <td>0</td>\n",
       "      <td>0</td>\n",
       "      <td>0</td>\n",
       "      <td>0</td>\n",
       "      <td>YES</td>\n",
       "    </tr>\n",
       "    <tr>\n",
       "      <th>2</th>\n",
       "      <td>1998-10-10</td>\n",
       "      <td>las vegas</td>\n",
       "      <td>nv</td>\n",
       "      <td>us</td>\n",
       "      <td>cigar</td>\n",
       "      <td>600.0</td>\n",
       "      <td>White&amp;#44 vertical cigar shape floating around...</td>\n",
       "      <td>36.175000</td>\n",
       "      <td>-115.136389</td>\n",
       "      <td>17:30</td>\n",
       "      <td>...</td>\n",
       "      <td>Autumn</td>\n",
       "      <td>1.242096</td>\n",
       "      <td>0</td>\n",
       "      <td>0</td>\n",
       "      <td>2.868935</td>\n",
       "      <td>0</td>\n",
       "      <td>0</td>\n",
       "      <td>0</td>\n",
       "      <td>0</td>\n",
       "      <td>NO</td>\n",
       "    </tr>\n",
       "    <tr>\n",
       "      <th>3</th>\n",
       "      <td>1998-10-10</td>\n",
       "      <td>mooresville</td>\n",
       "      <td>nc</td>\n",
       "      <td>us</td>\n",
       "      <td>light</td>\n",
       "      <td>2.0</td>\n",
       "      <td>Star gazing in back yard with telescope and bi...</td>\n",
       "      <td>35.584722</td>\n",
       "      <td>-80.810278</td>\n",
       "      <td>20:50</td>\n",
       "      <td>...</td>\n",
       "      <td>Autumn</td>\n",
       "      <td>0.016113</td>\n",
       "      <td>0</td>\n",
       "      <td>0</td>\n",
       "      <td>0.064273</td>\n",
       "      <td>0</td>\n",
       "      <td>0</td>\n",
       "      <td>0</td>\n",
       "      <td>0</td>\n",
       "      <td>YES</td>\n",
       "    </tr>\n",
       "    <tr>\n",
       "      <th>4</th>\n",
       "      <td>1998-10-10</td>\n",
       "      <td>delano</td>\n",
       "      <td>tn</td>\n",
       "      <td>us</td>\n",
       "      <td>fireball</td>\n",
       "      <td>15.0</td>\n",
       "      <td>I came home from work one night and I seen a b...</td>\n",
       "      <td>35.265000</td>\n",
       "      <td>-84.553333</td>\n",
       "      <td>23:50</td>\n",
       "      <td>...</td>\n",
       "      <td>Autumn</td>\n",
       "      <td>-0.096269</td>\n",
       "      <td>0</td>\n",
       "      <td>0</td>\n",
       "      <td>0.064273</td>\n",
       "      <td>0</td>\n",
       "      <td>0</td>\n",
       "      <td>0</td>\n",
       "      <td>0</td>\n",
       "      <td>YES</td>\n",
       "    </tr>\n",
       "  </tbody>\n",
       "</table>\n",
       "<p>5 rows × 28 columns</p>\n",
       "</div>"
      ],
      "text/plain": [
       "    datetime         city state country     shape  duration (seconds)  \\\n",
       "0 1997-10-10         mesa    az      us    sphere                30.0   \n",
       "1 1997-10-10      bonaire    ga      us  triangle               300.0   \n",
       "2 1998-10-10    las vegas    nv      us     cigar               600.0   \n",
       "3 1998-10-10  mooresville    nc      us     light                 2.0   \n",
       "4 1998-10-10       delano    tn      us  fireball                15.0   \n",
       "\n",
       "                                            comments   latitude   longitude  \\\n",
       "0  A small dark purple quad-thruster craft hoveri...  33.422222 -111.821944   \n",
       "1      Triangular Object Sighted at Very Close Range  32.543611  -83.596111   \n",
       "2  White&#44 vertical cigar shape floating around...  36.175000 -115.136389   \n",
       "3  Star gazing in back yard with telescope and bi...  35.584722  -80.810278   \n",
       "4  I came home from work one night and I seen a b...  35.265000  -84.553333   \n",
       "\n",
       "    time  ...  season      temp hail rain       vis thunder  fog  tornado  \\\n",
       "0  17:00  ...  Autumn  1.660974    0    0  0.064273       0    0        0   \n",
       "1  20:00  ...  Autumn  0.629105    0    0  0.900445       0    0        0   \n",
       "2  17:30  ...  Autumn  1.242096    0    0  2.868935       0    0        0   \n",
       "3  20:50  ...  Autumn  0.016113    0    0  0.064273       0    0        0   \n",
       "4  23:50  ...  Autumn -0.096269    0    0  0.064273       0    0        0   \n",
       "\n",
       "  snow  Credible  \n",
       "0    0        NO  \n",
       "1    0       YES  \n",
       "2    0        NO  \n",
       "3    0       YES  \n",
       "4    0       YES  \n",
       "\n",
       "[5 rows x 28 columns]"
      ]
     },
     "execution_count": 8,
     "metadata": {},
     "output_type": "execute_result"
    }
   ],
   "source": [
    "df['Credible'] = df.Credible.replace(np.NaN, 'YES')\n",
    "df.head()"
   ]
  },
  {
   "cell_type": "code",
   "execution_count": 9,
   "metadata": {
    "colab": {
     "base_uri": "https://localhost:8080/",
     "height": 432
    },
    "id": "xWO0rl1jhjMq",
    "outputId": "edf670ff-3872-410c-f114-f5177ce6f748"
   },
   "outputs": [
    {
     "data": {
      "text/plain": [
       "Text(0.5, 1.0, 'Credibilty Distribution')"
      ]
     },
     "execution_count": 9,
     "metadata": {},
     "output_type": "execute_result"
    },
    {
     "data": {
      "text/plain": [
       "<Figure size 1440x576 with 0 Axes>"
      ]
     },
     "metadata": {},
     "output_type": "display_data"
    },
    {
     "data": {
      "image/png": "[encoded data removed]",
      "text/plain": [
       "<Figure size 360x360 with 1 Axes>"
      ]
     },
     "metadata": {
      "needs_background": "light"
     },
     "output_type": "display_data"
    }
   ],
   "source": [
    "plt.figure(figsize=(20,8))\n",
    "sns.catplot(x=df[\"Credible\"], kind=\"count\",\n",
    "            palette=\"viridis\", edgecolor=\".6\",\n",
    "            data=df.sort_values(\"Credible\"))\n",
    "plt.xlabel('Credibility')\n",
    "plt.ylabel('Frequency')\n",
    "plt.title(\"Credibilty Distribution\")"
   ]
  },
  {
   "cell_type": "code",
   "execution_count": 14,
   "metadata": {
    "id": "5-DxETXB-SLn"
   },
   "outputs": [],
   "source": [
    "cols2drop=['datetime','duration (seconds)', 'comments', 'latitude', 'longitude', 'time', 'country', 'coord', 'military_base_name',\t'military_base_dist',\t'airport_name',\t'airport_dist', \n",
    "              'temp',\t'hail',\t'rain',\t'vis',\t'thunder',\t'fog',\t'tornado',\t'snow']\n",
    "data=df.drop(columns=cols2drop)\n",
    "data1=df.drop(columns=cols2drop)"
   ]
  },
  {
   "cell_type": "code",
   "execution_count": 15,
   "metadata": {
    "colab": {
     "base_uri": "https://localhost:8080/",
     "height": 190
    },
    "id": "eOw5Ocq5BoY4",
    "outputId": "489d947d-ae3e-4e2c-dbf0-dbd14fdecea9"
   },
   "outputs": [
    {
     "data": {
      "text/html": [
       "<div>\n",
       "<style scoped>\n",
       "    .dataframe tbody tr th:only-of-type {\n",
       "        vertical-align: middle;\n",
       "    }\n",
       "\n",
       "    .dataframe tbody tr th {\n",
       "        vertical-align: top;\n",
       "    }\n",
       "\n",
       "    .dataframe thead th {\n",
       "        text-align: right;\n",
       "    }\n",
       "</style>\n",
       "<table border=\"1\" class=\"dataframe\">\n",
       "  <thead>\n",
       "    <tr style=\"text-align: right;\">\n",
       "      <th></th>\n",
       "      <th>city</th>\n",
       "      <th>state</th>\n",
       "      <th>shape</th>\n",
       "      <th>year</th>\n",
       "      <th>month</th>\n",
       "      <th>day</th>\n",
       "      <th>season</th>\n",
       "      <th>Credible</th>\n",
       "    </tr>\n",
       "  </thead>\n",
       "  <tbody>\n",
       "    <tr>\n",
       "      <th>0</th>\n",
       "      <td>3835</td>\n",
       "      <td>3</td>\n",
       "      <td>15</td>\n",
       "      <td>0</td>\n",
       "      <td>9</td>\n",
       "      <td>9</td>\n",
       "      <td>0</td>\n",
       "      <td>0</td>\n",
       "    </tr>\n",
       "    <tr>\n",
       "      <th>1</th>\n",
       "      <td>585</td>\n",
       "      <td>10</td>\n",
       "      <td>16</td>\n",
       "      <td>0</td>\n",
       "      <td>9</td>\n",
       "      <td>9</td>\n",
       "      <td>0</td>\n",
       "      <td>1</td>\n",
       "    </tr>\n",
       "    <tr>\n",
       "      <th>2</th>\n",
       "      <td>3301</td>\n",
       "      <td>33</td>\n",
       "      <td>2</td>\n",
       "      <td>1</td>\n",
       "      <td>9</td>\n",
       "      <td>9</td>\n",
       "      <td>0</td>\n",
       "      <td>0</td>\n",
       "    </tr>\n",
       "    <tr>\n",
       "      <th>3</th>\n",
       "      <td>3987</td>\n",
       "      <td>27</td>\n",
       "      <td>11</td>\n",
       "      <td>1</td>\n",
       "      <td>9</td>\n",
       "      <td>9</td>\n",
       "      <td>0</td>\n",
       "      <td>1</td>\n",
       "    </tr>\n",
       "    <tr>\n",
       "      <th>4</th>\n",
       "      <td>1492</td>\n",
       "      <td>42</td>\n",
       "      <td>8</td>\n",
       "      <td>1</td>\n",
       "      <td>9</td>\n",
       "      <td>9</td>\n",
       "      <td>0</td>\n",
       "      <td>1</td>\n",
       "    </tr>\n",
       "  </tbody>\n",
       "</table>\n",
       "</div>"
      ],
      "text/plain": [
       "   city  state  shape  year  month  day  season  Credible\n",
       "0  3835      3     15     0      9    9       0         0\n",
       "1   585     10     16     0      9    9       0         1\n",
       "2  3301     33      2     1      9    9       0         0\n",
       "3  3987     27     11     1      9    9       0         1\n",
       "4  1492     42      8     1      9    9       0         1"
      ]
     },
     "execution_count": 15,
     "metadata": {},
     "output_type": "execute_result"
    }
   ],
   "source": [
    "from sklearn.preprocessing import LabelEncoder\n",
    "\n",
    "data = data.apply(LabelEncoder().fit_transform)\n",
    "data.head()"
   ]
  },
  {
   "cell_type": "code",
   "execution_count": 16,
   "metadata": {
    "colab": {
     "base_uri": "https://localhost:8080/"
    },
    "id": "iH2nN4tYphxS",
    "outputId": "79925beb-0506-4270-b9f1-5d2781361bef"
   },
   "outputs": [
    {
     "name": "stdout",
     "output_type": "stream",
     "text": [
      "(35356, 27) (35356,)\n",
      "datetime              datetime64[ns]\n",
      "city                          object\n",
      "state                         object\n",
      "country                       object\n",
      "shape                         object\n",
      "duration (seconds)           float64\n",
      "comments                      object\n",
      "latitude                     float64\n",
      "longitude                    float64\n",
      "time                          object\n",
      "year                           int64\n",
      "month                          int64\n",
      "coord                         object\n",
      "military_base_name            object\n",
      "military_base_dist           float64\n",
      "airport_name                  object\n",
      "airport_dist                 float64\n",
      "day                            int64\n",
      "season                        object\n",
      "temp                         float64\n",
      "hail                           int64\n",
      "rain                           int64\n",
      "vis                          float64\n",
      "thunder                        int64\n",
      "fog                            int64\n",
      "tornado                        int64\n",
      "snow                           int64\n",
      "dtype: object\n"
     ]
    }
   ],
   "source": [
    "# Assign X (data) and y (target)\n",
    "data = df.drop(columns=[\"Credible\"])\n",
    "X = data\n",
    "y = data1[\"Credible\"]\n",
    "print(X.shape, y.shape)\n",
    "\n",
    "print(data.dtypes)"
   ]
  },
  {
   "cell_type": "code",
   "execution_count": null,
   "metadata": {
    "id": "7th0jJP190SH"
   },
   "outputs": [],
   "source": [
    "from sklearn.model_selection import train_test_split\n",
    "\n",
    "X_train, X_test, y_train, y_test = train_test_split(X, y, random_state=1, stratify=y)"
   ]
  },
  {
   "cell_type": "code",
   "execution_count": null,
   "metadata": {
    "colab": {
     "base_uri": "https://localhost:8080/"
    },
    "id": "ery3ZE2z97Eq",
    "outputId": "e1e656cb-22de-437e-aa21-0c65b266a399"
   },
   "outputs": [
    {
     "data": {
      "text/plain": [
       "LogisticRegression(C=1.0, class_weight=None, dual=False, fit_intercept=True,\n",
       "                   intercept_scaling=1, l1_ratio=None, max_iter=100,\n",
       "                   multi_class='auto', n_jobs=None, penalty='l2',\n",
       "                   random_state=None, solver='lbfgs', tol=0.0001, verbose=0,\n",
       "                   warm_start=False)"
      ]
     },
     "execution_count": 97,
     "metadata": {
      "tags": []
     },
     "output_type": "execute_result"
    }
   ],
   "source": [
    "from sklearn.linear_model import LogisticRegression\n",
    "classifier = LogisticRegression()\n",
    "classifier"
   ]
  },
  {
   "cell_type": "code",
   "execution_count": null,
   "metadata": {
    "colab": {
     "base_uri": "https://localhost:8080/",
     "height": 303
    },
    "id": "MJ68LdCM9-ZT",
    "outputId": "f2596474-0420-42ea-be65-172e84edf581"
   },
   "outputs": [
    {
     "ename": "TypeError",
     "evalue": "ignored",
     "output_type": "error",
     "traceback": [
      "\u001b[0;31m---------------------------------------------------------------------------\u001b[0m",
      "\u001b[0;31mTypeError\u001b[0m                                 Traceback (most recent call last)",
      "\u001b[0;32m<ipython-input-98-f44724590846>\u001b[0m in \u001b[0;36m<module>\u001b[0;34m()\u001b[0m\n\u001b[0;32m----> 1\u001b[0;31m \u001b[0mclassifier\u001b[0m\u001b[0;34m.\u001b[0m\u001b[0mfit\u001b[0m\u001b[0;34m(\u001b[0m\u001b[0mX_train\u001b[0m\u001b[0;34m,\u001b[0m \u001b[0my_train\u001b[0m\u001b[0;34m)\u001b[0m\u001b[0;34m\u001b[0m\u001b[0;34m\u001b[0m\u001b[0m\n\u001b[0m",
      "\u001b[0;32m/usr/local/lib/python3.6/dist-packages/sklearn/linear_model/_logistic.py\u001b[0m in \u001b[0;36mfit\u001b[0;34m(self, X, y, sample_weight)\u001b[0m\n\u001b[1;32m   1525\u001b[0m \u001b[0;34m\u001b[0m\u001b[0m\n\u001b[1;32m   1526\u001b[0m         X, y = check_X_y(X, y, accept_sparse='csr', dtype=_dtype, order=\"C\",\n\u001b[0;32m-> 1527\u001b[0;31m                          accept_large_sparse=solver != 'liblinear')\n\u001b[0m\u001b[1;32m   1528\u001b[0m         \u001b[0mcheck_classification_targets\u001b[0m\u001b[0;34m(\u001b[0m\u001b[0my\u001b[0m\u001b[0;34m)\u001b[0m\u001b[0;34m\u001b[0m\u001b[0;34m\u001b[0m\u001b[0m\n\u001b[1;32m   1529\u001b[0m         \u001b[0mself\u001b[0m\u001b[0;34m.\u001b[0m\u001b[0mclasses_\u001b[0m \u001b[0;34m=\u001b[0m \u001b[0mnp\u001b[0m\u001b[0;34m.\u001b[0m\u001b[0munique\u001b[0m\u001b[0;34m(\u001b[0m\u001b[0my\u001b[0m\u001b[0;34m)\u001b[0m\u001b[0;34m\u001b[0m\u001b[0;34m\u001b[0m\u001b[0m\n",
      "\u001b[0;32m/usr/local/lib/python3.6/dist-packages/sklearn/utils/validation.py\u001b[0m in \u001b[0;36mcheck_X_y\u001b[0;34m(X, y, accept_sparse, accept_large_sparse, dtype, order, copy, force_all_finite, ensure_2d, allow_nd, multi_output, ensure_min_samples, ensure_min_features, y_numeric, warn_on_dtype, estimator)\u001b[0m\n\u001b[1;32m    753\u001b[0m                     \u001b[0mensure_min_features\u001b[0m\u001b[0;34m=\u001b[0m\u001b[0mensure_min_features\u001b[0m\u001b[0;34m,\u001b[0m\u001b[0;34m\u001b[0m\u001b[0;34m\u001b[0m\u001b[0m\n\u001b[1;32m    754\u001b[0m                     \u001b[0mwarn_on_dtype\u001b[0m\u001b[0;34m=\u001b[0m\u001b[0mwarn_on_dtype\u001b[0m\u001b[0;34m,\u001b[0m\u001b[0;34m\u001b[0m\u001b[0;34m\u001b[0m\u001b[0m\n\u001b[0;32m--> 755\u001b[0;31m                     estimator=estimator)\n\u001b[0m\u001b[1;32m    756\u001b[0m     \u001b[0;32mif\u001b[0m \u001b[0mmulti_output\u001b[0m\u001b[0;34m:\u001b[0m\u001b[0;34m\u001b[0m\u001b[0;34m\u001b[0m\u001b[0m\n\u001b[1;32m    757\u001b[0m         y = check_array(y, 'csr', force_all_finite=True, ensure_2d=False,\n",
      "\u001b[0;32m/usr/local/lib/python3.6/dist-packages/sklearn/utils/validation.py\u001b[0m in \u001b[0;36mcheck_array\u001b[0;34m(array, accept_sparse, accept_large_sparse, dtype, order, copy, force_all_finite, ensure_2d, allow_nd, ensure_min_samples, ensure_min_features, warn_on_dtype, estimator)\u001b[0m\n\u001b[1;32m    529\u001b[0m                     \u001b[0marray\u001b[0m \u001b[0;34m=\u001b[0m \u001b[0marray\u001b[0m\u001b[0;34m.\u001b[0m\u001b[0mastype\u001b[0m\u001b[0;34m(\u001b[0m\u001b[0mdtype\u001b[0m\u001b[0;34m,\u001b[0m \u001b[0mcasting\u001b[0m\u001b[0;34m=\u001b[0m\u001b[0;34m\"unsafe\"\u001b[0m\u001b[0;34m,\u001b[0m \u001b[0mcopy\u001b[0m\u001b[0;34m=\u001b[0m\u001b[0;32mFalse\u001b[0m\u001b[0;34m)\u001b[0m\u001b[0;34m\u001b[0m\u001b[0;34m\u001b[0m\u001b[0m\n\u001b[1;32m    530\u001b[0m                 \u001b[0;32melse\u001b[0m\u001b[0;34m:\u001b[0m\u001b[0;34m\u001b[0m\u001b[0;34m\u001b[0m\u001b[0m\n\u001b[0;32m--> 531\u001b[0;31m                     \u001b[0marray\u001b[0m \u001b[0;34m=\u001b[0m \u001b[0mnp\u001b[0m\u001b[0;34m.\u001b[0m\u001b[0masarray\u001b[0m\u001b[0;34m(\u001b[0m\u001b[0marray\u001b[0m\u001b[0;34m,\u001b[0m \u001b[0morder\u001b[0m\u001b[0;34m=\u001b[0m\u001b[0morder\u001b[0m\u001b[0;34m,\u001b[0m \u001b[0mdtype\u001b[0m\u001b[0;34m=\u001b[0m\u001b[0mdtype\u001b[0m\u001b[0;34m)\u001b[0m\u001b[0;34m\u001b[0m\u001b[0;34m\u001b[0m\u001b[0m\n\u001b[0m\u001b[1;32m    532\u001b[0m             \u001b[0;32mexcept\u001b[0m \u001b[0mComplexWarning\u001b[0m\u001b[0;34m:\u001b[0m\u001b[0;34m\u001b[0m\u001b[0;34m\u001b[0m\u001b[0m\n\u001b[1;32m    533\u001b[0m                 raise ValueError(\"Complex data not supported\\n\"\n",
      "\u001b[0;32m/usr/local/lib/python3.6/dist-packages/numpy/core/_asarray.py\u001b[0m in \u001b[0;36masarray\u001b[0;34m(a, dtype, order)\u001b[0m\n\u001b[1;32m     83\u001b[0m \u001b[0;34m\u001b[0m\u001b[0m\n\u001b[1;32m     84\u001b[0m     \"\"\"\n\u001b[0;32m---> 85\u001b[0;31m     \u001b[0;32mreturn\u001b[0m \u001b[0marray\u001b[0m\u001b[0;34m(\u001b[0m\u001b[0ma\u001b[0m\u001b[0;34m,\u001b[0m \u001b[0mdtype\u001b[0m\u001b[0;34m,\u001b[0m \u001b[0mcopy\u001b[0m\u001b[0;34m=\u001b[0m\u001b[0;32mFalse\u001b[0m\u001b[0;34m,\u001b[0m \u001b[0morder\u001b[0m\u001b[0;34m=\u001b[0m\u001b[0morder\u001b[0m\u001b[0;34m)\u001b[0m\u001b[0;34m\u001b[0m\u001b[0;34m\u001b[0m\u001b[0m\n\u001b[0m\u001b[1;32m     86\u001b[0m \u001b[0;34m\u001b[0m\u001b[0m\n\u001b[1;32m     87\u001b[0m \u001b[0;34m\u001b[0m\u001b[0m\n",
      "\u001b[0;32m/usr/local/lib/python3.6/dist-packages/pandas/core/generic.py\u001b[0m in \u001b[0;36m__array__\u001b[0;34m(self, dtype)\u001b[0m\n\u001b[1;32m   1779\u001b[0m \u001b[0;34m\u001b[0m\u001b[0m\n\u001b[1;32m   1780\u001b[0m     \u001b[0;32mdef\u001b[0m \u001b[0m__array__\u001b[0m\u001b[0;34m(\u001b[0m\u001b[0mself\u001b[0m\u001b[0;34m,\u001b[0m \u001b[0mdtype\u001b[0m\u001b[0;34m=\u001b[0m\u001b[0;32mNone\u001b[0m\u001b[0;34m)\u001b[0m \u001b[0;34m->\u001b[0m \u001b[0mnp\u001b[0m\u001b[0;34m.\u001b[0m\u001b[0mndarray\u001b[0m\u001b[0;34m:\u001b[0m\u001b[0;34m\u001b[0m\u001b[0;34m\u001b[0m\u001b[0m\n\u001b[0;32m-> 1781\u001b[0;31m         \u001b[0;32mreturn\u001b[0m \u001b[0mnp\u001b[0m\u001b[0;34m.\u001b[0m\u001b[0masarray\u001b[0m\u001b[0;34m(\u001b[0m\u001b[0mself\u001b[0m\u001b[0;34m.\u001b[0m\u001b[0m_values\u001b[0m\u001b[0;34m,\u001b[0m \u001b[0mdtype\u001b[0m\u001b[0;34m=\u001b[0m\u001b[0mdtype\u001b[0m\u001b[0;34m)\u001b[0m\u001b[0;34m\u001b[0m\u001b[0;34m\u001b[0m\u001b[0m\n\u001b[0m\u001b[1;32m   1782\u001b[0m \u001b[0;34m\u001b[0m\u001b[0m\n\u001b[1;32m   1783\u001b[0m     \u001b[0;32mdef\u001b[0m \u001b[0m__array_wrap__\u001b[0m\u001b[0;34m(\u001b[0m\u001b[0mself\u001b[0m\u001b[0;34m,\u001b[0m \u001b[0mresult\u001b[0m\u001b[0;34m,\u001b[0m \u001b[0mcontext\u001b[0m\u001b[0;34m=\u001b[0m\u001b[0;32mNone\u001b[0m\u001b[0;34m)\u001b[0m\u001b[0;34m:\u001b[0m\u001b[0;34m\u001b[0m\u001b[0;34m\u001b[0m\u001b[0m\n",
      "\u001b[0;32m/usr/local/lib/python3.6/dist-packages/numpy/core/_asarray.py\u001b[0m in \u001b[0;36masarray\u001b[0;34m(a, dtype, order)\u001b[0m\n\u001b[1;32m     83\u001b[0m \u001b[0;34m\u001b[0m\u001b[0m\n\u001b[1;32m     84\u001b[0m     \"\"\"\n\u001b[0;32m---> 85\u001b[0;31m     \u001b[0;32mreturn\u001b[0m \u001b[0marray\u001b[0m\u001b[0;34m(\u001b[0m\u001b[0ma\u001b[0m\u001b[0;34m,\u001b[0m \u001b[0mdtype\u001b[0m\u001b[0;34m,\u001b[0m \u001b[0mcopy\u001b[0m\u001b[0;34m=\u001b[0m\u001b[0;32mFalse\u001b[0m\u001b[0;34m,\u001b[0m \u001b[0morder\u001b[0m\u001b[0;34m=\u001b[0m\u001b[0morder\u001b[0m\u001b[0;34m)\u001b[0m\u001b[0;34m\u001b[0m\u001b[0;34m\u001b[0m\u001b[0m\n\u001b[0m\u001b[1;32m     86\u001b[0m \u001b[0;34m\u001b[0m\u001b[0m\n\u001b[1;32m     87\u001b[0m \u001b[0;34m\u001b[0m\u001b[0m\n",
      "\u001b[0;31mTypeError\u001b[0m: float() argument must be a string or a number, not 'Timestamp'"
     ]
    }
   ],
   "source": [
    "classifier.fit(X_train, y_train)"
   ]
  },
  {
   "cell_type": "code",
   "execution_count": null,
   "metadata": {
    "colab": {
     "base_uri": "https://localhost:8080/"
    },
    "id": "wg2XbYQECM8-",
    "outputId": "cf6e5862-d87c-43ff-931f-7bb3b03db16d"
   },
   "outputs": [
    {
     "data": {
      "text/plain": [
       "datetime              datetime64[ns]\n",
       "city                          object\n",
       "state                         object\n",
       "country                       object\n",
       "shape                         object\n",
       "duration (seconds)           float64\n",
       "comments                      object\n",
       "latitude                     float64\n",
       "longitude                    float64\n",
       "time                          object\n",
       "year                           int64\n",
       "month                          int64\n",
       "coord                         object\n",
       "military_base_name            object\n",
       "military_base_dist           float64\n",
       "airport_name                  object\n",
       "airport_dist                 float64\n",
       "day                            int64\n",
       "temp                         float64\n",
       "hail                           int64\n",
       "rain                           int64\n",
       "vis                          float64\n",
       "thunder                        int64\n",
       "fog                            int64\n",
       "tornado                        int64\n",
       "snow                           int64\n",
       "dtype: object"
      ]
     },
     "execution_count": 103,
     "metadata": {
      "tags": []
     },
     "output_type": "execute_result"
    }
   ],
   "source": [
    "X_train.dtypes"
   ]
  }
 ],
 "metadata": {
  "colab": {
   "authorship_tag": "ABX9TyMriqRxewBnDJfIxr42x0DB",
   "include_colab_link": true,
   "name": "UFO_Classifier.ipynb",
   "provenance": [],
   "toc_visible": true
  },
  "kernelspec": {
   "display_name": "Python 3",
   "language": "python",
   "name": "python3"
  },
  "language_info": {
   "codemirror_mode": {
    "name": "ipython",
    "version": 3
   },
   "file_extension": ".py",
   "mimetype": "text/x-python",
   "name": "python",
   "nbconvert_exporter": "python",
   "pygments_lexer": "ipython3",
   "version": "3.8.5"
  }
 },
 "nbformat": 4,
 "nbformat_minor": 1
}
