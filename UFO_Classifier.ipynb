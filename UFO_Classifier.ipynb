{
  "nbformat": 4,
  "nbformat_minor": 0,
  "metadata": {
    "colab": {
      "name": "UFO_Classifier.ipynb",
      "provenance": [],
      "toc_visible": true,
      "authorship_tag": "ABX9TyMriqRxewBnDJfIxr42x0DB",
      "include_colab_link": true
    },
    "kernelspec": {
      "name": "python3",
      "display_name": "Python 3"
    }
  },
  "cells": [
    {
      "cell_type": "markdown",
      "metadata": {
        "id": "view-in-github",
        "colab_type": "text"
      },
      "source": [
        "<a href=\"https://colab.research.google.com/github/larregui/IST718-Project/blob/main/UFO_Classifier.ipynb\" target=\"_parent\"><img src=\"https://colab.research.google.com/assets/colab-badge.svg\" alt=\"Open In Colab\"/></a>"
      ]
    },
    {
      "cell_type": "markdown",
      "metadata": {
        "id": "je8E4xErOIgL"
      },
      "source": [
        "#Import Libraries"
      ]
    },
    {
      "cell_type": "code",
      "metadata": {
        "id": "xgRxdOhGNwpF"
      },
      "source": [
        "import pandas as pd #data frame operations\n",
        "import numpy as np #arrays and math functions\n",
        "#from scipy.stats import uniform #for training and test splits\n",
        "#import statsmodels.api as sm  # statistical models (including regression)\n",
        "#import statsmodels.formula.api as smf  # R-like model specification\n",
        "import matplotlib.pyplot as plt #2D plotting\n",
        "import seaborn as sns #seaborn for plotting\n",
        "#from sklearn.linear_model import LinearRegression\n",
        "#import plotly.graph_objs as go\n",
        "#from plotly import tools\n",
        "#from plotly.offline import iplot, init_notebook_mode"
      ],
      "execution_count": null,
      "outputs": []
    },
    {
      "cell_type": "markdown",
      "metadata": {
        "id": "UULic41zOP2K"
      },
      "source": [
        "#Import Datasets"
      ]
    },
    {
      "cell_type": "code",
      "metadata": {
        "id": "2URCJffQON75"
      },
      "source": [
        "ufo = pd.read_csv(\"/content/newufo.csv\")\n",
        "wea = pd.read_csv(\"/content/consolidated_weather_V03.csv\")"
      ],
      "execution_count": null,
      "outputs": []
    },
    {
      "cell_type": "markdown",
      "metadata": {
        "id": "Zpc7z1RLOk_D"
      },
      "source": [
        "#Data Cleanup"
      ]
    },
    {
      "cell_type": "code",
      "metadata": {
        "id": "YHePCLzQTjz6"
      },
      "source": [
        "#change datatype for the following columns\n",
        "ufo[\"latitude\"] = pd.to_numeric(ufo[\"latitude\"], errors=\"coerce\")\n",
        "ufo['datetime'] = (pd.to_datetime(ufo['datetime'], format='%Y/%m/%d'))\n",
        "ufo['date posted'] = (pd.to_datetime(ufo['date posted'], format='%Y/%m/%d'))\n",
        "#add column day\n",
        "ufo['day'] = pd.DatetimeIndex(ufo['datetime']).day\n",
        "#drop unnecessary columns\n",
        "cols2drop=[ 'Unnamed: 0','duration (hours/min)','date posted']\n",
        "ufo=ufo.drop(columns=cols2drop)"
      ],
      "execution_count": null,
      "outputs": []
    },
    {
      "cell_type": "code",
      "metadata": {
        "id": "lOMdVKqFLIcG"
      },
      "source": [
        "# Creating seasons column\n",
        "# Seasons of the ufo appearances\n",
        "def output_season_from(x):\n",
        "    \n",
        "    if x in range(3,6):\n",
        "        return \"Spring\"\n",
        "    if x in range(6,9):\n",
        "        return \"Summer\"\n",
        "    if x in range(9,12):\n",
        "        return \"Autumn\"\n",
        "    if x == 12 or x == 1 or x == 2:\n",
        "        return \"Winter\"\n",
        "\n",
        "ufo[\"season\"] = ufo['month'].apply(output_season_from)"
      ],
      "execution_count": null,
      "outputs": []
    },
    {
      "cell_type": "code",
      "metadata": {
        "id": "MKRJzef_GAn6",
        "colab": {
          "base_uri": "https://localhost:8080/"
        },
        "outputId": "79b1fbc4-5d75-4b78-a5a0-c42f263841d3"
      },
      "source": [
        "wea['dateInt']=wea['year'].astype(str) + wea['month'].astype(str).str.zfill(2)+ wea['mday'].astype(str).str.zfill(2)\n",
        "wea['datetime'] = pd.to_datetime(wea['dateInt'], format='%Y%m%d')\n",
        "wea['state']=wea['state'].str.lower()\n",
        "wea['city']=wea['city'].str.lower()\n",
        "wea['shape']=wea['shape'].str.lower()\n",
        "cols2drop=[ 'colour','month','pressure','heatindex','windchill', 'precip', \n",
        "            'wgust', 'wdire','dewpt','wspd','hum','conds', 'mday','year','hour','id','dateInt']\n",
        "\n",
        "wea=wea.drop(columns=cols2drop)\n",
        "\n",
        "# Shows all the null values\n",
        "#print(wea.isnull().sum())\n",
        "\n",
        "wea=wea.dropna()\n",
        "wea.shape"
      ],
      "execution_count": null,
      "outputs": [
        {
          "output_type": "execute_result",
          "data": {
            "text/plain": [
              "(50963, 12)"
            ]
          },
          "metadata": {
            "tags": []
          },
          "execution_count": 82
        }
      ]
    },
    {
      "cell_type": "markdown",
      "metadata": {
        "id": "BulI0YkmPBOi"
      },
      "source": [
        "#Merge datatsets"
      ]
    },
    {
      "cell_type": "code",
      "metadata": {
        "colab": {
          "base_uri": "https://localhost:8080/",
          "height": 277
        },
        "id": "jBeiKXY4PAnu",
        "outputId": "2e15356d-3f9e-484c-9cd3-4832acf14c29"
      },
      "source": [
        "df = pd.merge(ufo, wea, on=[\"city\", \"state\", \"datetime\", \"shape\"])\n",
        "df.describe()"
      ],
      "execution_count": null,
      "outputs": [
        {
          "output_type": "execute_result",
          "data": {
            "text/html": [
              "<div>\n",
              "<style scoped>\n",
              "    .dataframe tbody tr th:only-of-type {\n",
              "        vertical-align: middle;\n",
              "    }\n",
              "\n",
              "    .dataframe tbody tr th {\n",
              "        vertical-align: top;\n",
              "    }\n",
              "\n",
              "    .dataframe thead th {\n",
              "        text-align: right;\n",
              "    }\n",
              "</style>\n",
              "<table border=\"1\" class=\"dataframe\">\n",
              "  <thead>\n",
              "    <tr style=\"text-align: right;\">\n",
              "      <th></th>\n",
              "      <th>duration (seconds)</th>\n",
              "      <th>latitude</th>\n",
              "      <th>longitude</th>\n",
              "      <th>year</th>\n",
              "      <th>month</th>\n",
              "      <th>military_base_dist</th>\n",
              "      <th>airport_dist</th>\n",
              "      <th>day</th>\n",
              "      <th>temp</th>\n",
              "      <th>hail</th>\n",
              "      <th>rain</th>\n",
              "      <th>vis</th>\n",
              "      <th>thunder</th>\n",
              "      <th>fog</th>\n",
              "      <th>tornado</th>\n",
              "      <th>snow</th>\n",
              "    </tr>\n",
              "  </thead>\n",
              "  <tbody>\n",
              "    <tr>\n",
              "      <th>count</th>\n",
              "      <td>3.535600e+04</td>\n",
              "      <td>35356.000000</td>\n",
              "      <td>35356.000000</td>\n",
              "      <td>35356.000000</td>\n",
              "      <td>35356.000000</td>\n",
              "      <td>35356.000000</td>\n",
              "      <td>35356.000000</td>\n",
              "      <td>35356.000000</td>\n",
              "      <td>35356.000000</td>\n",
              "      <td>35356.0</td>\n",
              "      <td>35356.000000</td>\n",
              "      <td>35356.000000</td>\n",
              "      <td>35356.000000</td>\n",
              "      <td>35356.000000</td>\n",
              "      <td>35356.000000</td>\n",
              "      <td>35356.000000</td>\n",
              "    </tr>\n",
              "    <tr>\n",
              "      <th>mean</th>\n",
              "      <td>3.640002e+03</td>\n",
              "      <td>38.383515</td>\n",
              "      <td>-95.421423</td>\n",
              "      <td>2007.543896</td>\n",
              "      <td>6.889043</td>\n",
              "      <td>5000.481879</td>\n",
              "      <td>3.779888</td>\n",
              "      <td>15.307642</td>\n",
              "      <td>-0.040161</td>\n",
              "      <td>0.0</td>\n",
              "      <td>0.021976</td>\n",
              "      <td>-0.003462</td>\n",
              "      <td>0.005968</td>\n",
              "      <td>0.004101</td>\n",
              "      <td>0.000028</td>\n",
              "      <td>0.004299</td>\n",
              "    </tr>\n",
              "    <tr>\n",
              "      <th>std</th>\n",
              "      <td>2.908908e+05</td>\n",
              "      <td>5.596983</td>\n",
              "      <td>18.223826</td>\n",
              "      <td>4.605761</td>\n",
              "      <td>3.327509</td>\n",
              "      <td>1132.724850</td>\n",
              "      <td>3.878917</td>\n",
              "      <td>8.871921</td>\n",
              "      <td>1.006675</td>\n",
              "      <td>0.0</td>\n",
              "      <td>0.146609</td>\n",
              "      <td>1.054241</td>\n",
              "      <td>0.077022</td>\n",
              "      <td>0.063910</td>\n",
              "      <td>0.005318</td>\n",
              "      <td>0.065428</td>\n",
              "    </tr>\n",
              "    <tr>\n",
              "      <th>min</th>\n",
              "      <td>1.000000e-02</td>\n",
              "      <td>19.063889</td>\n",
              "      <td>-170.478889</td>\n",
              "      <td>1997.000000</td>\n",
              "      <td>1.000000</td>\n",
              "      <td>1579.967092</td>\n",
              "      <td>0.022381</td>\n",
              "      <td>1.000000</td>\n",
              "      <td>-5.419079</td>\n",
              "      <td>0.0</td>\n",
              "      <td>0.000000</td>\n",
              "      <td>-2.740390</td>\n",
              "      <td>0.000000</td>\n",
              "      <td>0.000000</td>\n",
              "      <td>0.000000</td>\n",
              "      <td>0.000000</td>\n",
              "    </tr>\n",
              "    <tr>\n",
              "      <th>25%</th>\n",
              "      <td>3.000000e+01</td>\n",
              "      <td>34.134722</td>\n",
              "      <td>-114.888542</td>\n",
              "      <td>2004.000000</td>\n",
              "      <td>4.000000</td>\n",
              "      <td>3872.748270</td>\n",
              "      <td>1.231377</td>\n",
              "      <td>8.000000</td>\n",
              "      <td>-0.699044</td>\n",
              "      <td>0.0</td>\n",
              "      <td>0.000000</td>\n",
              "      <td>0.064273</td>\n",
              "      <td>0.000000</td>\n",
              "      <td>0.000000</td>\n",
              "      <td>0.000000</td>\n",
              "      <td>0.000000</td>\n",
              "    </tr>\n",
              "    <tr>\n",
              "      <th>50%</th>\n",
              "      <td>1.800000e+02</td>\n",
              "      <td>38.998889</td>\n",
              "      <td>-89.213611</td>\n",
              "      <td>2008.000000</td>\n",
              "      <td>7.000000</td>\n",
              "      <td>5314.815203</td>\n",
              "      <td>2.740357</td>\n",
              "      <td>15.000000</td>\n",
              "      <td>0.077412</td>\n",
              "      <td>0.0</td>\n",
              "      <td>0.000000</td>\n",
              "      <td>0.064273</td>\n",
              "      <td>0.000000</td>\n",
              "      <td>0.000000</td>\n",
              "      <td>0.000000</td>\n",
              "      <td>0.000000</td>\n",
              "    </tr>\n",
              "    <tr>\n",
              "      <th>75%</th>\n",
              "      <td>6.000000e+02</td>\n",
              "      <td>42.011111</td>\n",
              "      <td>-80.699722</td>\n",
              "      <td>2012.000000</td>\n",
              "      <td>10.000000</td>\n",
              "      <td>5868.691832</td>\n",
              "      <td>4.821439</td>\n",
              "      <td>23.000000</td>\n",
              "      <td>0.731270</td>\n",
              "      <td>0.0</td>\n",
              "      <td>0.000000</td>\n",
              "      <td>0.064273</td>\n",
              "      <td>0.000000</td>\n",
              "      <td>0.000000</td>\n",
              "      <td>0.000000</td>\n",
              "      <td>0.000000</td>\n",
              "    </tr>\n",
              "    <tr>\n",
              "      <th>max</th>\n",
              "      <td>5.262320e+07</td>\n",
              "      <td>70.636944</td>\n",
              "      <td>-66.984722</td>\n",
              "      <td>2014.000000</td>\n",
              "      <td>12.000000</td>\n",
              "      <td>7238.415091</td>\n",
              "      <td>56.585655</td>\n",
              "      <td>31.000000</td>\n",
              "      <td>4.102724</td>\n",
              "      <td>0.0</td>\n",
              "      <td>1.000000</td>\n",
              "      <td>30.898139</td>\n",
              "      <td>1.000000</td>\n",
              "      <td>1.000000</td>\n",
              "      <td>1.000000</td>\n",
              "      <td>1.000000</td>\n",
              "    </tr>\n",
              "  </tbody>\n",
              "</table>\n",
              "</div>"
            ],
            "text/plain": [
              "       duration (seconds)      latitude  ...       tornado          snow\n",
              "count        3.535600e+04  35356.000000  ...  35356.000000  35356.000000\n",
              "mean         3.640002e+03     38.383515  ...      0.000028      0.004299\n",
              "std          2.908908e+05      5.596983  ...      0.005318      0.065428\n",
              "min          1.000000e-02     19.063889  ...      0.000000      0.000000\n",
              "25%          3.000000e+01     34.134722  ...      0.000000      0.000000\n",
              "50%          1.800000e+02     38.998889  ...      0.000000      0.000000\n",
              "75%          6.000000e+02     42.011111  ...      0.000000      0.000000\n",
              "max          5.262320e+07     70.636944  ...      1.000000      1.000000\n",
              "\n",
              "[8 rows x 16 columns]"
            ]
          },
          "metadata": {
            "tags": []
          },
          "execution_count": 83
        }
      ]
    },
    {
      "cell_type": "markdown",
      "metadata": {
        "id": "Eu5VsmAdR9BV"
      },
      "source": [
        "#Classifier"
      ]
    },
    {
      "cell_type": "code",
      "metadata": {
        "id": "vtykXi-BR8qz"
      },
      "source": [
        "df.loc[df['tornado'] ==1, 'Credible'] = 'NO'\n",
        "df.loc[df['fog'] ==1, 'Credible'] = 'NO'\n",
        "df.loc[df['snow'] ==1, 'Credible'] = 'NO'\n",
        "df.loc[df['rain'] ==1, 'Credible'] = 'NO'\n",
        "df.loc[df['thunder'] ==1, 'Credible'] = 'NO'\n",
        "df.loc[df['hail'] ==1, 'Credible'] = 'NO'\n",
        "#df.loc[df['vis'] >= 0.064273, 'Credible'] = 'NO'\n",
        "df.loc[df['airport_dist'] <= 1.6, 'Credible'] = 'NO'\n",
        "df.loc[df['military_base_dist'] <= 1.6, 'Credible'] = 'NO'\n",
        "df.loc[(df.month == 1) & (df.day == 1), \"Credible\"] = 'NO'\n",
        "df.loc[(df.month == 7) & (df.day == 4), \"Credible\"] = 'NO'"
      ],
      "execution_count": null,
      "outputs": []
    },
    {
      "cell_type": "code",
      "metadata": {
        "colab": {
          "base_uri": "https://localhost:8080/",
          "height": 630
        },
        "id": "XG1ZfthwTTwP",
        "outputId": "fd55d474-4310-45fd-d0ec-42dd2d907b3a"
      },
      "source": [
        "df['Credible'] = df.Credible.replace(np.NaN, 'YES')\n",
        "df.head()"
      ],
      "execution_count": null,
      "outputs": [
        {
          "output_type": "execute_result",
          "data": {
            "text/html": [
              "<div>\n",
              "<style scoped>\n",
              "    .dataframe tbody tr th:only-of-type {\n",
              "        vertical-align: middle;\n",
              "    }\n",
              "\n",
              "    .dataframe tbody tr th {\n",
              "        vertical-align: top;\n",
              "    }\n",
              "\n",
              "    .dataframe thead th {\n",
              "        text-align: right;\n",
              "    }\n",
              "</style>\n",
              "<table border=\"1\" class=\"dataframe\">\n",
              "  <thead>\n",
              "    <tr style=\"text-align: right;\">\n",
              "      <th></th>\n",
              "      <th>datetime</th>\n",
              "      <th>city</th>\n",
              "      <th>state</th>\n",
              "      <th>country</th>\n",
              "      <th>shape</th>\n",
              "      <th>duration (seconds)</th>\n",
              "      <th>comments</th>\n",
              "      <th>latitude</th>\n",
              "      <th>longitude</th>\n",
              "      <th>time</th>\n",
              "      <th>year</th>\n",
              "      <th>month</th>\n",
              "      <th>coord</th>\n",
              "      <th>military_base_name</th>\n",
              "      <th>military_base_dist</th>\n",
              "      <th>airport_name</th>\n",
              "      <th>airport_dist</th>\n",
              "      <th>day</th>\n",
              "      <th>temp</th>\n",
              "      <th>hail</th>\n",
              "      <th>rain</th>\n",
              "      <th>vis</th>\n",
              "      <th>thunder</th>\n",
              "      <th>fog</th>\n",
              "      <th>tornado</th>\n",
              "      <th>snow</th>\n",
              "      <th>Credible</th>\n",
              "    </tr>\n",
              "  </thead>\n",
              "  <tbody>\n",
              "    <tr>\n",
              "      <th>0</th>\n",
              "      <td>1997-10-10</td>\n",
              "      <td>mesa</td>\n",
              "      <td>az</td>\n",
              "      <td>us</td>\n",
              "      <td>sphere</td>\n",
              "      <td>30.0</td>\n",
              "      <td>A small dark purple quad-thruster craft hoveri...</td>\n",
              "      <td>33.422222</td>\n",
              "      <td>-111.821944</td>\n",
              "      <td>17:00</td>\n",
              "      <td>1997</td>\n",
              "      <td>10</td>\n",
              "      <td>('33.4222222', -111.8219444)</td>\n",
              "      <td>Eareckson AS</td>\n",
              "      <td>3454.409479</td>\n",
              "      <td>Mesa Hospital Medical Center Heliport</td>\n",
              "      <td>0.311086</td>\n",
              "      <td>10</td>\n",
              "      <td>1.660974</td>\n",
              "      <td>0</td>\n",
              "      <td>0</td>\n",
              "      <td>0.064273</td>\n",
              "      <td>0</td>\n",
              "      <td>0</td>\n",
              "      <td>0</td>\n",
              "      <td>0</td>\n",
              "      <td>NO</td>\n",
              "    </tr>\n",
              "    <tr>\n",
              "      <th>1</th>\n",
              "      <td>1997-10-10</td>\n",
              "      <td>bonaire</td>\n",
              "      <td>ga</td>\n",
              "      <td>us</td>\n",
              "      <td>triangle</td>\n",
              "      <td>300.0</td>\n",
              "      <td>Triangular Object Sighted at Very Close Range</td>\n",
              "      <td>32.543611</td>\n",
              "      <td>-83.596111</td>\n",
              "      <td>20:00</td>\n",
              "      <td>1997</td>\n",
              "      <td>10</td>\n",
              "      <td>('32.5436111', -83.59611109999999)</td>\n",
              "      <td>Eareckson AS</td>\n",
              "      <td>5404.265953</td>\n",
              "      <td>Warner Robins Air Park</td>\n",
              "      <td>7.589948</td>\n",
              "      <td>10</td>\n",
              "      <td>0.629105</td>\n",
              "      <td>0</td>\n",
              "      <td>0</td>\n",
              "      <td>0.900445</td>\n",
              "      <td>0</td>\n",
              "      <td>0</td>\n",
              "      <td>0</td>\n",
              "      <td>0</td>\n",
              "      <td>YES</td>\n",
              "    </tr>\n",
              "    <tr>\n",
              "      <th>2</th>\n",
              "      <td>1998-10-10</td>\n",
              "      <td>las vegas</td>\n",
              "      <td>nv</td>\n",
              "      <td>us</td>\n",
              "      <td>cigar</td>\n",
              "      <td>600.0</td>\n",
              "      <td>White&amp;#44 vertical cigar shape floating around...</td>\n",
              "      <td>36.175000</td>\n",
              "      <td>-115.136389</td>\n",
              "      <td>17:30</td>\n",
              "      <td>1998</td>\n",
              "      <td>10</td>\n",
              "      <td>('36.1750000', -115.1363889)</td>\n",
              "      <td>Eareckson AS</td>\n",
              "      <td>3589.816966</td>\n",
              "      <td>City Hall Complex Heliport</td>\n",
              "      <td>0.518080</td>\n",
              "      <td>10</td>\n",
              "      <td>1.242096</td>\n",
              "      <td>0</td>\n",
              "      <td>0</td>\n",
              "      <td>2.868935</td>\n",
              "      <td>0</td>\n",
              "      <td>0</td>\n",
              "      <td>0</td>\n",
              "      <td>0</td>\n",
              "      <td>NO</td>\n",
              "    </tr>\n",
              "    <tr>\n",
              "      <th>3</th>\n",
              "      <td>1998-10-10</td>\n",
              "      <td>mooresville</td>\n",
              "      <td>nc</td>\n",
              "      <td>us</td>\n",
              "      <td>light</td>\n",
              "      <td>2.0</td>\n",
              "      <td>Star gazing in back yard with telescope and bi...</td>\n",
              "      <td>35.584722</td>\n",
              "      <td>-80.810278</td>\n",
              "      <td>20:50</td>\n",
              "      <td>1998</td>\n",
              "      <td>10</td>\n",
              "      <td>('35.5847222', -80.8102778)</td>\n",
              "      <td>Eareckson AS</td>\n",
              "      <td>5775.016814</td>\n",
              "      <td>Hunter Construction Heliport</td>\n",
              "      <td>3.038387</td>\n",
              "      <td>10</td>\n",
              "      <td>0.016113</td>\n",
              "      <td>0</td>\n",
              "      <td>0</td>\n",
              "      <td>0.064273</td>\n",
              "      <td>0</td>\n",
              "      <td>0</td>\n",
              "      <td>0</td>\n",
              "      <td>0</td>\n",
              "      <td>YES</td>\n",
              "    </tr>\n",
              "    <tr>\n",
              "      <th>4</th>\n",
              "      <td>1998-10-10</td>\n",
              "      <td>delano</td>\n",
              "      <td>tn</td>\n",
              "      <td>us</td>\n",
              "      <td>fireball</td>\n",
              "      <td>15.0</td>\n",
              "      <td>I came home from work one night and I seen a b...</td>\n",
              "      <td>35.265000</td>\n",
              "      <td>-84.553333</td>\n",
              "      <td>23:50</td>\n",
              "      <td>1998</td>\n",
              "      <td>10</td>\n",
              "      <td>('35.2650000', -84.55333329999999)</td>\n",
              "      <td>Eareckson AS</td>\n",
              "      <td>5452.721410</td>\n",
              "      <td>Chilhowee Gliderport</td>\n",
              "      <td>5.153607</td>\n",
              "      <td>10</td>\n",
              "      <td>-0.096269</td>\n",
              "      <td>0</td>\n",
              "      <td>0</td>\n",
              "      <td>0.064273</td>\n",
              "      <td>0</td>\n",
              "      <td>0</td>\n",
              "      <td>0</td>\n",
              "      <td>0</td>\n",
              "      <td>YES</td>\n",
              "    </tr>\n",
              "  </tbody>\n",
              "</table>\n",
              "</div>"
            ],
            "text/plain": [
              "    datetime         city state country  ... fog  tornado snow  Credible\n",
              "0 1997-10-10         mesa    az      us  ...   0        0    0        NO\n",
              "1 1997-10-10      bonaire    ga      us  ...   0        0    0       YES\n",
              "2 1998-10-10    las vegas    nv      us  ...   0        0    0        NO\n",
              "3 1998-10-10  mooresville    nc      us  ...   0        0    0       YES\n",
              "4 1998-10-10       delano    tn      us  ...   0        0    0       YES\n",
              "\n",
              "[5 rows x 27 columns]"
            ]
          },
          "metadata": {
            "tags": []
          },
          "execution_count": 85
        }
      ]
    },
    {
      "cell_type": "code",
      "metadata": {
        "colab": {
          "base_uri": "https://localhost:8080/",
          "height": 432
        },
        "id": "xWO0rl1jhjMq",
        "outputId": "edf670ff-3872-410c-f114-f5177ce6f748"
      },
      "source": [
        "plt.figure(figsize=(20,8))\n",
        "sns.catplot(x=df[\"Credible\"], kind=\"count\",\n",
        "            palette=\"viridis\", edgecolor=\".6\",\n",
        "            data=df.sort_values(\"Credible\"))\n",
        "plt.xlabel('Credibility')\n",
        "plt.ylabel('Frequency')\n",
        "plt.title(\"Credibilty Distribution\")"
      ],
      "execution_count": null,
      "outputs": [
        {
          "output_type": "execute_result",
          "data": {
            "text/plain": [
              "Text(0.5, 1.0, 'Credibilty Distribution')"
            ]
          },
          "metadata": {
            "tags": []
          },
          "execution_count": 86
        },
        {
          "output_type": "display_data",
          "data": {
            "text/plain": [
              "<Figure size 1440x576 with 0 Axes>"
            ]
          },
          "metadata": {
            "tags": []
          }
        },
        {
          "output_type": "display_data",
          "data": {
            "image/png": "[encoded data removed]",
            "text/plain": [
              "<Figure size 360x360 with 1 Axes>"
            ]
          },
          "metadata": {
            "tags": [],
            "needs_background": "light"
          }
        }
      ]
    },
    {
      "cell_type": "code",
      "metadata": {
        "id": "5-DxETXB-SLn"
      },
      "source": [
        "cols2drop=['datetime','duration (seconds)', 'comments', 'latitude', 'longitude', 'time', 'country', 'coord', 'military_base_name',\t'military_base_dist',\t'airport_name',\t'airport_dist', \n",
        "              'temp',\t'hail',\t'rain',\t'vis',\t'thunder',\t'fog',\t'tornado',\t'snow']\n",
        "data=df.drop(columns=cols2drop)\n",
        "data1=df.drop(columns=cols2drop)"
      ],
      "execution_count": null,
      "outputs": []
    },
    {
      "cell_type": "code",
      "metadata": {
        "colab": {
          "base_uri": "https://localhost:8080/",
          "height": 190
        },
        "id": "eOw5Ocq5BoY4",
        "outputId": "489d947d-ae3e-4e2c-dbf0-dbd14fdecea9"
      },
      "source": [
        "from sklearn.preprocessing import LabelEncoder\n",
        "\n",
        "data = data.apply(LabelEncoder().fit_transform)\n",
        "data.head()"
      ],
      "execution_count": null,
      "outputs": [
        {
          "output_type": "execute_result",
          "data": {
            "text/html": [
              "<div>\n",
              "<style scoped>\n",
              "    .dataframe tbody tr th:only-of-type {\n",
              "        vertical-align: middle;\n",
              "    }\n",
              "\n",
              "    .dataframe tbody tr th {\n",
              "        vertical-align: top;\n",
              "    }\n",
              "\n",
              "    .dataframe thead th {\n",
              "        text-align: right;\n",
              "    }\n",
              "</style>\n",
              "<table border=\"1\" class=\"dataframe\">\n",
              "  <thead>\n",
              "    <tr style=\"text-align: right;\">\n",
              "      <th></th>\n",
              "      <th>city</th>\n",
              "      <th>state</th>\n",
              "      <th>shape</th>\n",
              "      <th>year</th>\n",
              "      <th>month</th>\n",
              "      <th>day</th>\n",
              "      <th>Credible</th>\n",
              "    </tr>\n",
              "  </thead>\n",
              "  <tbody>\n",
              "    <tr>\n",
              "      <th>0</th>\n",
              "      <td>3835</td>\n",
              "      <td>3</td>\n",
              "      <td>15</td>\n",
              "      <td>0</td>\n",
              "      <td>9</td>\n",
              "      <td>9</td>\n",
              "      <td>0</td>\n",
              "    </tr>\n",
              "    <tr>\n",
              "      <th>1</th>\n",
              "      <td>585</td>\n",
              "      <td>10</td>\n",
              "      <td>16</td>\n",
              "      <td>0</td>\n",
              "      <td>9</td>\n",
              "      <td>9</td>\n",
              "      <td>1</td>\n",
              "    </tr>\n",
              "    <tr>\n",
              "      <th>2</th>\n",
              "      <td>3301</td>\n",
              "      <td>33</td>\n",
              "      <td>2</td>\n",
              "      <td>1</td>\n",
              "      <td>9</td>\n",
              "      <td>9</td>\n",
              "      <td>0</td>\n",
              "    </tr>\n",
              "    <tr>\n",
              "      <th>3</th>\n",
              "      <td>3987</td>\n",
              "      <td>27</td>\n",
              "      <td>11</td>\n",
              "      <td>1</td>\n",
              "      <td>9</td>\n",
              "      <td>9</td>\n",
              "      <td>1</td>\n",
              "    </tr>\n",
              "    <tr>\n",
              "      <th>4</th>\n",
              "      <td>1492</td>\n",
              "      <td>42</td>\n",
              "      <td>8</td>\n",
              "      <td>1</td>\n",
              "      <td>9</td>\n",
              "      <td>9</td>\n",
              "      <td>1</td>\n",
              "    </tr>\n",
              "  </tbody>\n",
              "</table>\n",
              "</div>"
            ],
            "text/plain": [
              "   city  state  shape  year  month  day  Credible\n",
              "0  3835      3     15     0      9    9         0\n",
              "1   585     10     16     0      9    9         1\n",
              "2  3301     33      2     1      9    9         0\n",
              "3  3987     27     11     1      9    9         1\n",
              "4  1492     42      8     1      9    9         1"
            ]
          },
          "metadata": {
            "tags": []
          },
          "execution_count": 101
        }
      ]
    },
    {
      "cell_type": "code",
      "metadata": {
        "colab": {
          "base_uri": "https://localhost:8080/"
        },
        "id": "iH2nN4tYphxS",
        "outputId": "79925beb-0506-4270-b9f1-5d2781361bef"
      },
      "source": [
        "# Assign X (data) and y (target)\n",
        "data = df.drop(columns=[\"Credible\"])\n",
        "X = data\n",
        "y = data1[\"Credible\"]\n",
        "print(X.shape, y.shape)"
      ],
      "execution_count": null,
      "outputs": [
        {
          "output_type": "stream",
          "text": [
            "(35356, 26) (35356,)\n"
          ],
          "name": "stdout"
        }
      ]
    },
    {
      "cell_type": "code",
      "metadata": {
        "id": "7th0jJP190SH"
      },
      "source": [
        "from sklearn.model_selection import train_test_split\n",
        "\n",
        "X_train, X_test, y_train, y_test = train_test_split(X, y, random_state=1, stratify=y)"
      ],
      "execution_count": null,
      "outputs": []
    },
    {
      "cell_type": "code",
      "metadata": {
        "colab": {
          "base_uri": "https://localhost:8080/"
        },
        "id": "ery3ZE2z97Eq",
        "outputId": "e1e656cb-22de-437e-aa21-0c65b266a399"
      },
      "source": [
        "from sklearn.linear_model import LogisticRegression\n",
        "classifier = LogisticRegression()\n",
        "classifier"
      ],
      "execution_count": null,
      "outputs": [
        {
          "output_type": "execute_result",
          "data": {
            "text/plain": [
              "LogisticRegression(C=1.0, class_weight=None, dual=False, fit_intercept=True,\n",
              "                   intercept_scaling=1, l1_ratio=None, max_iter=100,\n",
              "                   multi_class='auto', n_jobs=None, penalty='l2',\n",
              "                   random_state=None, solver='lbfgs', tol=0.0001, verbose=0,\n",
              "                   warm_start=False)"
            ]
          },
          "metadata": {
            "tags": []
          },
          "execution_count": 97
        }
      ]
    },
    {
      "cell_type": "code",
      "metadata": {
        "colab": {
          "base_uri": "https://localhost:8080/",
          "height": 303
        },
        "id": "MJ68LdCM9-ZT",
        "outputId": "f2596474-0420-42ea-be65-172e84edf581"
      },
      "source": [
        "classifier.fit(X_train, y_train)"
      ],
      "execution_count": null,
      "outputs": [
        {
          "output_type": "error",
          "ename": "TypeError",
          "evalue": "ignored",
          "traceback": [
            "\u001b[0;31m---------------------------------------------------------------------------\u001b[0m",
            "\u001b[0;31mTypeError\u001b[0m                                 Traceback (most recent call last)",
            "\u001b[0;32m<ipython-input-98-f44724590846>\u001b[0m in \u001b[0;36m<module>\u001b[0;34m()\u001b[0m\n\u001b[0;32m----> 1\u001b[0;31m \u001b[0mclassifier\u001b[0m\u001b[0;34m.\u001b[0m\u001b[0mfit\u001b[0m\u001b[0;34m(\u001b[0m\u001b[0mX_train\u001b[0m\u001b[0;34m,\u001b[0m \u001b[0my_train\u001b[0m\u001b[0;34m)\u001b[0m\u001b[0;34m\u001b[0m\u001b[0;34m\u001b[0m\u001b[0m\n\u001b[0m",
            "\u001b[0;32m/usr/local/lib/python3.6/dist-packages/sklearn/linear_model/_logistic.py\u001b[0m in \u001b[0;36mfit\u001b[0;34m(self, X, y, sample_weight)\u001b[0m\n\u001b[1;32m   1525\u001b[0m \u001b[0;34m\u001b[0m\u001b[0m\n\u001b[1;32m   1526\u001b[0m         X, y = check_X_y(X, y, accept_sparse='csr', dtype=_dtype, order=\"C\",\n\u001b[0;32m-> 1527\u001b[0;31m                          accept_large_sparse=solver != 'liblinear')\n\u001b[0m\u001b[1;32m   1528\u001b[0m         \u001b[0mcheck_classification_targets\u001b[0m\u001b[0;34m(\u001b[0m\u001b[0my\u001b[0m\u001b[0;34m)\u001b[0m\u001b[0;34m\u001b[0m\u001b[0;34m\u001b[0m\u001b[0m\n\u001b[1;32m   1529\u001b[0m         \u001b[0mself\u001b[0m\u001b[0;34m.\u001b[0m\u001b[0mclasses_\u001b[0m \u001b[0;34m=\u001b[0m \u001b[0mnp\u001b[0m\u001b[0;34m.\u001b[0m\u001b[0munique\u001b[0m\u001b[0;34m(\u001b[0m\u001b[0my\u001b[0m\u001b[0;34m)\u001b[0m\u001b[0;34m\u001b[0m\u001b[0;34m\u001b[0m\u001b[0m\n",
            "\u001b[0;32m/usr/local/lib/python3.6/dist-packages/sklearn/utils/validation.py\u001b[0m in \u001b[0;36mcheck_X_y\u001b[0;34m(X, y, accept_sparse, accept_large_sparse, dtype, order, copy, force_all_finite, ensure_2d, allow_nd, multi_output, ensure_min_samples, ensure_min_features, y_numeric, warn_on_dtype, estimator)\u001b[0m\n\u001b[1;32m    753\u001b[0m                     \u001b[0mensure_min_features\u001b[0m\u001b[0;34m=\u001b[0m\u001b[0mensure_min_features\u001b[0m\u001b[0;34m,\u001b[0m\u001b[0;34m\u001b[0m\u001b[0;34m\u001b[0m\u001b[0m\n\u001b[1;32m    754\u001b[0m                     \u001b[0mwarn_on_dtype\u001b[0m\u001b[0;34m=\u001b[0m\u001b[0mwarn_on_dtype\u001b[0m\u001b[0;34m,\u001b[0m\u001b[0;34m\u001b[0m\u001b[0;34m\u001b[0m\u001b[0m\n\u001b[0;32m--> 755\u001b[0;31m                     estimator=estimator)\n\u001b[0m\u001b[1;32m    756\u001b[0m     \u001b[0;32mif\u001b[0m \u001b[0mmulti_output\u001b[0m\u001b[0;34m:\u001b[0m\u001b[0;34m\u001b[0m\u001b[0;34m\u001b[0m\u001b[0m\n\u001b[1;32m    757\u001b[0m         y = check_array(y, 'csr', force_all_finite=True, ensure_2d=False,\n",
            "\u001b[0;32m/usr/local/lib/python3.6/dist-packages/sklearn/utils/validation.py\u001b[0m in \u001b[0;36mcheck_array\u001b[0;34m(array, accept_sparse, accept_large_sparse, dtype, order, copy, force_all_finite, ensure_2d, allow_nd, ensure_min_samples, ensure_min_features, warn_on_dtype, estimator)\u001b[0m\n\u001b[1;32m    529\u001b[0m                     \u001b[0marray\u001b[0m \u001b[0;34m=\u001b[0m \u001b[0marray\u001b[0m\u001b[0;34m.\u001b[0m\u001b[0mastype\u001b[0m\u001b[0;34m(\u001b[0m\u001b[0mdtype\u001b[0m\u001b[0;34m,\u001b[0m \u001b[0mcasting\u001b[0m\u001b[0;34m=\u001b[0m\u001b[0;34m\"unsafe\"\u001b[0m\u001b[0;34m,\u001b[0m \u001b[0mcopy\u001b[0m\u001b[0;34m=\u001b[0m\u001b[0;32mFalse\u001b[0m\u001b[0;34m)\u001b[0m\u001b[0;34m\u001b[0m\u001b[0;34m\u001b[0m\u001b[0m\n\u001b[1;32m    530\u001b[0m                 \u001b[0;32melse\u001b[0m\u001b[0;34m:\u001b[0m\u001b[0;34m\u001b[0m\u001b[0;34m\u001b[0m\u001b[0m\n\u001b[0;32m--> 531\u001b[0;31m                     \u001b[0marray\u001b[0m \u001b[0;34m=\u001b[0m \u001b[0mnp\u001b[0m\u001b[0;34m.\u001b[0m\u001b[0masarray\u001b[0m\u001b[0;34m(\u001b[0m\u001b[0marray\u001b[0m\u001b[0;34m,\u001b[0m \u001b[0morder\u001b[0m\u001b[0;34m=\u001b[0m\u001b[0morder\u001b[0m\u001b[0;34m,\u001b[0m \u001b[0mdtype\u001b[0m\u001b[0;34m=\u001b[0m\u001b[0mdtype\u001b[0m\u001b[0;34m)\u001b[0m\u001b[0;34m\u001b[0m\u001b[0;34m\u001b[0m\u001b[0m\n\u001b[0m\u001b[1;32m    532\u001b[0m             \u001b[0;32mexcept\u001b[0m \u001b[0mComplexWarning\u001b[0m\u001b[0;34m:\u001b[0m\u001b[0;34m\u001b[0m\u001b[0;34m\u001b[0m\u001b[0m\n\u001b[1;32m    533\u001b[0m                 raise ValueError(\"Complex data not supported\\n\"\n",
            "\u001b[0;32m/usr/local/lib/python3.6/dist-packages/numpy/core/_asarray.py\u001b[0m in \u001b[0;36masarray\u001b[0;34m(a, dtype, order)\u001b[0m\n\u001b[1;32m     83\u001b[0m \u001b[0;34m\u001b[0m\u001b[0m\n\u001b[1;32m     84\u001b[0m     \"\"\"\n\u001b[0;32m---> 85\u001b[0;31m     \u001b[0;32mreturn\u001b[0m \u001b[0marray\u001b[0m\u001b[0;34m(\u001b[0m\u001b[0ma\u001b[0m\u001b[0;34m,\u001b[0m \u001b[0mdtype\u001b[0m\u001b[0;34m,\u001b[0m \u001b[0mcopy\u001b[0m\u001b[0;34m=\u001b[0m\u001b[0;32mFalse\u001b[0m\u001b[0;34m,\u001b[0m \u001b[0morder\u001b[0m\u001b[0;34m=\u001b[0m\u001b[0morder\u001b[0m\u001b[0;34m)\u001b[0m\u001b[0;34m\u001b[0m\u001b[0;34m\u001b[0m\u001b[0m\n\u001b[0m\u001b[1;32m     86\u001b[0m \u001b[0;34m\u001b[0m\u001b[0m\n\u001b[1;32m     87\u001b[0m \u001b[0;34m\u001b[0m\u001b[0m\n",
            "\u001b[0;32m/usr/local/lib/python3.6/dist-packages/pandas/core/generic.py\u001b[0m in \u001b[0;36m__array__\u001b[0;34m(self, dtype)\u001b[0m\n\u001b[1;32m   1779\u001b[0m \u001b[0;34m\u001b[0m\u001b[0m\n\u001b[1;32m   1780\u001b[0m     \u001b[0;32mdef\u001b[0m \u001b[0m__array__\u001b[0m\u001b[0;34m(\u001b[0m\u001b[0mself\u001b[0m\u001b[0;34m,\u001b[0m \u001b[0mdtype\u001b[0m\u001b[0;34m=\u001b[0m\u001b[0;32mNone\u001b[0m\u001b[0;34m)\u001b[0m \u001b[0;34m->\u001b[0m \u001b[0mnp\u001b[0m\u001b[0;34m.\u001b[0m\u001b[0mndarray\u001b[0m\u001b[0;34m:\u001b[0m\u001b[0;34m\u001b[0m\u001b[0;34m\u001b[0m\u001b[0m\n\u001b[0;32m-> 1781\u001b[0;31m         \u001b[0;32mreturn\u001b[0m \u001b[0mnp\u001b[0m\u001b[0;34m.\u001b[0m\u001b[0masarray\u001b[0m\u001b[0;34m(\u001b[0m\u001b[0mself\u001b[0m\u001b[0;34m.\u001b[0m\u001b[0m_values\u001b[0m\u001b[0;34m,\u001b[0m \u001b[0mdtype\u001b[0m\u001b[0;34m=\u001b[0m\u001b[0mdtype\u001b[0m\u001b[0;34m)\u001b[0m\u001b[0;34m\u001b[0m\u001b[0;34m\u001b[0m\u001b[0m\n\u001b[0m\u001b[1;32m   1782\u001b[0m \u001b[0;34m\u001b[0m\u001b[0m\n\u001b[1;32m   1783\u001b[0m     \u001b[0;32mdef\u001b[0m \u001b[0m__array_wrap__\u001b[0m\u001b[0;34m(\u001b[0m\u001b[0mself\u001b[0m\u001b[0;34m,\u001b[0m \u001b[0mresult\u001b[0m\u001b[0;34m,\u001b[0m \u001b[0mcontext\u001b[0m\u001b[0;34m=\u001b[0m\u001b[0;32mNone\u001b[0m\u001b[0;34m)\u001b[0m\u001b[0;34m:\u001b[0m\u001b[0;34m\u001b[0m\u001b[0;34m\u001b[0m\u001b[0m\n",
            "\u001b[0;32m/usr/local/lib/python3.6/dist-packages/numpy/core/_asarray.py\u001b[0m in \u001b[0;36masarray\u001b[0;34m(a, dtype, order)\u001b[0m\n\u001b[1;32m     83\u001b[0m \u001b[0;34m\u001b[0m\u001b[0m\n\u001b[1;32m     84\u001b[0m     \"\"\"\n\u001b[0;32m---> 85\u001b[0;31m     \u001b[0;32mreturn\u001b[0m \u001b[0marray\u001b[0m\u001b[0;34m(\u001b[0m\u001b[0ma\u001b[0m\u001b[0;34m,\u001b[0m \u001b[0mdtype\u001b[0m\u001b[0;34m,\u001b[0m \u001b[0mcopy\u001b[0m\u001b[0;34m=\u001b[0m\u001b[0;32mFalse\u001b[0m\u001b[0;34m,\u001b[0m \u001b[0morder\u001b[0m\u001b[0;34m=\u001b[0m\u001b[0morder\u001b[0m\u001b[0;34m)\u001b[0m\u001b[0;34m\u001b[0m\u001b[0;34m\u001b[0m\u001b[0m\n\u001b[0m\u001b[1;32m     86\u001b[0m \u001b[0;34m\u001b[0m\u001b[0m\n\u001b[1;32m     87\u001b[0m \u001b[0;34m\u001b[0m\u001b[0m\n",
            "\u001b[0;31mTypeError\u001b[0m: float() argument must be a string or a number, not 'Timestamp'"
          ]
        }
      ]
    },
    {
      "cell_type": "code",
      "metadata": {
        "colab": {
          "base_uri": "https://localhost:8080/"
        },
        "id": "wg2XbYQECM8-",
        "outputId": "cf6e5862-d87c-43ff-931f-7bb3b03db16d"
      },
      "source": [
        "X_train.dtypes"
      ],
      "execution_count": null,
      "outputs": [
        {
          "output_type": "execute_result",
          "data": {
            "text/plain": [
              "datetime              datetime64[ns]\n",
              "city                          object\n",
              "state                         object\n",
              "country                       object\n",
              "shape                         object\n",
              "duration (seconds)           float64\n",
              "comments                      object\n",
              "latitude                     float64\n",
              "longitude                    float64\n",
              "time                          object\n",
              "year                           int64\n",
              "month                          int64\n",
              "coord                         object\n",
              "military_base_name            object\n",
              "military_base_dist           float64\n",
              "airport_name                  object\n",
              "airport_dist                 float64\n",
              "day                            int64\n",
              "temp                         float64\n",
              "hail                           int64\n",
              "rain                           int64\n",
              "vis                          float64\n",
              "thunder                        int64\n",
              "fog                            int64\n",
              "tornado                        int64\n",
              "snow                           int64\n",
              "dtype: object"
            ]
          },
          "metadata": {
            "tags": []
          },
          "execution_count": 103
        }
      ]
    }
  ]
}