{
 "cells": [
  {
   "cell_type": "code",
   "execution_count": 15,
   "metadata": {},
   "outputs": [],
   "source": [
    "#Imports and Libraries Used\n",
    "import requests\n",
    "import json\n",
    "\n",
    "#this API is from \n",
    "#https://www.themoviedb.org/settings/api\n",
    "\n",
    "#airport data is found at\n",
    "#https://openflights.org/data.html\n",
    "\n",
    "import os, sys\n",
    "currentdir = os.path.dirname(os.path.realpath(\"config.py\"))\n",
    "parentdir = os.path.dirname(currentdir)\n",
    "sys.path.append(parentdir)\n",
    "\n",
    "import config\n"
   ]
  },
  {
   "cell_type": "code",
   "execution_count": 18,
   "metadata": {},
   "outputs": [
    {
     "name": "stdout",
     "output_type": "stream",
     "text": [
      "200\n",
      "{'adult': False, 'backdrop_path': '/nlCHUWjY9XWbuEUQauCBgnY8ymF.jpg', 'belongs_to_collection': {'id': 8945, 'name': 'Mad Max Collection', 'poster_path': '/9U9QmbCDIBhqDShuIxOiS9gjKYz.jpg', 'backdrop_path': '/zI0q2ENcQOLECbe0gAEGlncVh2j.jpg'}, 'budget': 150000000, 'genres': [{'id': 28, 'name': 'Action'}, {'id': 12, 'name': 'Adventure'}, {'id': 878, 'name': 'Science Fiction'}], 'homepage': 'http://www.madmaxmovie.com', 'id': 76341, 'imdb_id': 'tt1392190', 'original_language': 'en', 'original_title': 'Mad Max: Fury Road', 'overview': 'An apocalyptic story set in the furthest reaches of our planet, in a stark desert landscape where humanity is broken, and most everyone is crazed fighting for the necessities of life. Within this world exist two rebels on the run who just might be able to restore order.', 'popularity': 52.052, 'poster_path': '/8tZYtuWezp8JbcsvHYO0O46tFbo.jpg', 'production_companies': [{'id': 2537, 'logo_path': None, 'name': 'Kennedy Miller Productions', 'origin_country': 'AU'}, {'id': 174, 'logo_path': '/IuAlhI9eVC9Z8UQWOIDdWRKSEJ.png', 'name': 'Warner Bros. Pictures', 'origin_country': 'US'}, {'id': 41624, 'logo_path': '/wzKxIeQKlMP0y5CaAw25MD6EQmf.png', 'name': 'RatPac-Dune Entertainment', 'origin_country': 'US'}, {'id': 79, 'logo_path': '/tpFpsqbleCzEE2p5EgvUq6ozfCA.png', 'name': 'Village Roadshow Pictures', 'origin_country': 'US'}], 'production_countries': [{'iso_3166_1': 'AU', 'name': 'Australia'}, {'iso_3166_1': 'US', 'name': 'United States of America'}, {'iso_3166_1': 'ZA', 'name': 'South Africa'}], 'release_date': '2015-05-13', 'revenue': 378858340, 'runtime': 121, 'spoken_languages': [{'iso_639_1': 'en', 'name': 'English'}], 'status': 'Released', 'tagline': 'What a Lovely Day.', 'title': 'Mad Max: Fury Road', 'video': False, 'vote_average': 7.5, 'vote_count': 17104}\n"
     ]
    }
   ],
   "source": [
    "# response = requests.get(\"http://api.open-notify.org/astros.json\")\n",
    "\n",
    "# response = requests.get(\"https://api.themoviedb.org/3/movie/76341?api_key=config.api_key\")\n",
    "\n",
    "response = requests.get(\"https://api.themoviedb.org/3/movie/76341?api_key=\" + config.api_key)\n",
    "\n",
    "\n",
    "\n",
    "# The get() function returns a response object. We can use the \n",
    "# response.status_code attribute to receive the status code for our request:\n",
    "\n",
    "print(response.status_code)\n",
    "\n",
    "print(response.json())"
   ]
  },
  {
   "cell_type": "code",
   "execution_count": 19,
   "metadata": {},
   "outputs": [
    {
     "name": "stdout",
     "output_type": "stream",
     "text": [
      "{\n",
      "    \"adult\": false,\n",
      "    \"backdrop_path\": \"/nlCHUWjY9XWbuEUQauCBgnY8ymF.jpg\",\n",
      "    \"belongs_to_collection\": {\n",
      "        \"backdrop_path\": \"/zI0q2ENcQOLECbe0gAEGlncVh2j.jpg\",\n",
      "        \"id\": 8945,\n",
      "        \"name\": \"Mad Max Collection\",\n",
      "        \"poster_path\": \"/9U9QmbCDIBhqDShuIxOiS9gjKYz.jpg\"\n",
      "    },\n",
      "    \"budget\": 150000000,\n",
      "    \"genres\": [\n",
      "        {\n",
      "            \"id\": 28,\n",
      "            \"name\": \"Action\"\n",
      "        },\n",
      "        {\n",
      "            \"id\": 12,\n",
      "            \"name\": \"Adventure\"\n",
      "        },\n",
      "        {\n",
      "            \"id\": 878,\n",
      "            \"name\": \"Science Fiction\"\n",
      "        }\n",
      "    ],\n",
      "    \"homepage\": \"http://www.madmaxmovie.com\",\n",
      "    \"id\": 76341,\n",
      "    \"imdb_id\": \"tt1392190\",\n",
      "    \"original_language\": \"en\",\n",
      "    \"original_title\": \"Mad Max: Fury Road\",\n",
      "    \"overview\": \"An apocalyptic story set in the furthest reaches of our planet, in a stark desert landscape where humanity is broken, and most everyone is crazed fighting for the necessities of life. Within this world exist two rebels on the run who just might be able to restore order.\",\n",
      "    \"popularity\": 52.052,\n",
      "    \"poster_path\": \"/8tZYtuWezp8JbcsvHYO0O46tFbo.jpg\",\n",
      "    \"production_companies\": [\n",
      "        {\n",
      "            \"id\": 2537,\n",
      "            \"logo_path\": null,\n",
      "            \"name\": \"Kennedy Miller Productions\",\n",
      "            \"origin_country\": \"AU\"\n",
      "        },\n",
      "        {\n",
      "            \"id\": 174,\n",
      "            \"logo_path\": \"/IuAlhI9eVC9Z8UQWOIDdWRKSEJ.png\",\n",
      "            \"name\": \"Warner Bros. Pictures\",\n",
      "            \"origin_country\": \"US\"\n",
      "        },\n",
      "        {\n",
      "            \"id\": 41624,\n",
      "            \"logo_path\": \"/wzKxIeQKlMP0y5CaAw25MD6EQmf.png\",\n",
      "            \"name\": \"RatPac-Dune Entertainment\",\n",
      "            \"origin_country\": \"US\"\n",
      "        },\n",
      "        {\n",
      "            \"id\": 79,\n",
      "            \"logo_path\": \"/tpFpsqbleCzEE2p5EgvUq6ozfCA.png\",\n",
      "            \"name\": \"Village Roadshow Pictures\",\n",
      "            \"origin_country\": \"US\"\n",
      "        }\n",
      "    ],\n",
      "    \"production_countries\": [\n",
      "        {\n",
      "            \"iso_3166_1\": \"AU\",\n",
      "            \"name\": \"Australia\"\n",
      "        },\n",
      "        {\n",
      "            \"iso_3166_1\": \"US\",\n",
      "            \"name\": \"United States of America\"\n",
      "        },\n",
      "        {\n",
      "            \"iso_3166_1\": \"ZA\",\n",
      "            \"name\": \"South Africa\"\n",
      "        }\n",
      "    ],\n",
      "    \"release_date\": \"2015-05-13\",\n",
      "    \"revenue\": 378858340,\n",
      "    \"runtime\": 121,\n",
      "    \"spoken_languages\": [\n",
      "        {\n",
      "            \"iso_639_1\": \"en\",\n",
      "            \"name\": \"English\"\n",
      "        }\n",
      "    ],\n",
      "    \"status\": \"Released\",\n",
      "    \"tagline\": \"What a Lovely Day.\",\n",
      "    \"title\": \"Mad Max: Fury Road\",\n",
      "    \"video\": false,\n",
      "    \"vote_average\": 7.5,\n",
      "    \"vote_count\": 17104\n",
      "}\n"
     ]
    }
   ],
   "source": [
    "def jprint(obj):\n",
    "    # create a formatted string of the Python JSON object\n",
    "    text = json.dumps(obj, sort_keys=True, indent=4)\n",
    "    print(text)\n",
    "\n",
    "jprint(response.json())"
   ]
  },
  {
   "cell_type": "code",
   "execution_count": 21,
   "metadata": {},
   "outputs": [
    {
     "name": "stdout",
     "output_type": "stream",
     "text": [
      "200\n",
      "{'genres': [{'id': 28, 'name': 'Action'}, {'id': 12, 'name': 'Adventure'}, {'id': 16, 'name': 'Animation'}, {'id': 35, 'name': 'Comedy'}, {'id': 80, 'name': 'Crime'}, {'id': 99, 'name': 'Documentary'}, {'id': 18, 'name': 'Drama'}, {'id': 10751, 'name': 'Family'}, {'id': 14, 'name': 'Fantasy'}, {'id': 36, 'name': 'History'}, {'id': 27, 'name': 'Horror'}, {'id': 10402, 'name': 'Music'}, {'id': 9648, 'name': 'Mystery'}, {'id': 10749, 'name': 'Romance'}, {'id': 878, 'name': 'Science Fiction'}, {'id': 10770, 'name': 'TV Movie'}, {'id': 53, 'name': 'Thriller'}, {'id': 10752, 'name': 'War'}, {'id': 37, 'name': 'Western'}]}\n"
     ]
    }
   ],
   "source": [
    "response = requests.get(\"https://api.themoviedb.org/3/genre/movie/list?api_key=\" + config.api_key)\n",
    "\n",
    "print(response.status_code)\n",
    "\n",
    "print(response.json())\n"
   ]
  },
  {
   "cell_type": "code",
   "execution_count": null,
   "metadata": {
    "collapsed": true
   },
   "outputs": [],
   "source": []
  }
 ],
 "metadata": {
  "kernelspec": {
   "display_name": "Python 3",
   "language": "python",
   "name": "python3"
  },
  "language_info": {
   "codemirror_mode": {
    "name": "ipython",
    "version": 3
   },
   "file_extension": ".py",
   "mimetype": "text/x-python",
   "name": "python",
   "nbconvert_exporter": "python",
   "pygments_lexer": "ipython3",
   "version": "3.6.12"
  }
 },
 "nbformat": 4,
 "nbformat_minor": 2
}
