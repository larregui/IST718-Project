{
 "cells": [
  {
   "cell_type": "code",
   "execution_count": 1,
   "metadata": {},
   "outputs": [],
   "source": [
    "import pandas as pd #data frame operations\n",
    "import numpy as np #arrays and math functions\n",
    "from scipy.stats import uniform #for training and test splits\n",
    "import statsmodels.api as sm  # statistical models (including regression)\n",
    "import statsmodels.formula.api as smf  # R-like model specification\n",
    "import matplotlib.pyplot as plt #2D plotting\n",
    "import seaborn as sns #seaborn for plotting\n",
    "from sklearn.linear_model import LinearRegression\n",
    "import plotly.graph_objs as go\n",
    "from plotly import tools\n",
    "from plotly.offline import iplot, init_notebook_mode"
   ]
  },
  {
   "cell_type": "code",
   "execution_count": 2,
   "metadata": {},
   "outputs": [],
   "source": [
    "# airport = pd.read_csv('us-airports.csv')\n",
    "airports_url = 'https://raw.githubusercontent.com/jpatokal/openflights/master/data/airports.dat'\n",
    "# airlines_url = 'https://raw.githubusercontent.com/jpatokal/openflights/master/data/airlines.dat'\n",
    "\n",
    "airports_df = pd.read_csv(airports_url, header=None, \n",
    "                          names=['id', 'name', 'city', 'country', 'iata', 'icao', 'lat', 'lon', \n",
    "                                 'alt', 'timezone', 'dst', 'tz', 'type', 'source'])"
   ]
  },
  {
   "cell_type": "code",
   "execution_count": 3,
   "metadata": {},
   "outputs": [
    {
     "data": {
      "text/plain": [
       "array(['Papua New Guinea', 'Greenland', 'Iceland', 'Canada', 'Algeria',\n",
       "       'Benin', 'Burkina Faso', 'Ghana', \"Cote d'Ivoire\", 'Nigeria',\n",
       "       'Niger', 'Tunisia', 'Togo', 'Belgium', 'Germany', 'Estonia',\n",
       "       'Finland', 'United Kingdom', 'Guernsey', 'Jersey', 'Isle of Man',\n",
       "       'Falkland Islands', 'Netherlands', 'Ireland', 'Denmark',\n",
       "       'Faroe Islands', 'Luxembourg', 'Norway', 'Poland', 'Sweden',\n",
       "       'South Africa', 'Botswana', 'Congo (Brazzaville)',\n",
       "       'Congo (Kinshasa)', 'Swaziland', 'Central African Republic',\n",
       "       'Equatorial Guinea', 'Saint Helena', 'Mauritius',\n",
       "       'British Indian Ocean Territory', 'Cameroon', 'Zambia', 'Comoros',\n",
       "       'Mayotte', 'Reunion', 'Madagascar', 'Angola', 'Gabon',\n",
       "       'Sao Tome and Principe', 'Mozambique', 'Seychelles', 'Chad',\n",
       "       'Zimbabwe', 'Malawi', 'Lesotho', 'Mali', 'Gambia', 'Spain',\n",
       "       'Sierra Leone', 'Guinea-Bissau', 'Liberia', 'Morocco', 'Senegal',\n",
       "       'Mauritania', 'Guinea', 'Cape Verde', 'Ethiopia', 'Burundi',\n",
       "       'Somalia', 'Egypt', 'Kenya', 'Libya', 'Rwanda', 'Sudan',\n",
       "       'South Sudan', 'Tanzania', 'Uganda', 'Albania', 'Bulgaria',\n",
       "       'Cyprus', 'Croatia', 'France', 'Saint Pierre and Miquelon',\n",
       "       'Greece', 'Hungary', 'Italy', 'Slovenia', 'Czech Republic',\n",
       "       'Israel', 'Malta', 'Austria', 'Portugal', 'Bosnia and Herzegovina',\n",
       "       'Romania', 'Switzerland', 'Turkey', 'Moldova', 'Macedonia',\n",
       "       'Gibraltar', 'Serbia', 'Montenegro', 'Slovakia',\n",
       "       'Turks and Caicos Islands', 'Dominican Republic', 'Guatemala',\n",
       "       'Honduras', 'Jamaica', 'Mexico', 'Nicaragua', 'Panama',\n",
       "       'Costa Rica', 'El Salvador', 'Haiti', 'Cuba', 'Cayman Islands',\n",
       "       'Bahamas', 'Belize', 'Cook Islands', 'Fiji', 'Tonga', 'Kiribati',\n",
       "       'Wallis and Futuna', 'Samoa', 'American Samoa', 'French Polynesia',\n",
       "       'Vanuatu', 'New Caledonia', 'New Zealand', 'Antarctica',\n",
       "       'Afghanistan', 'Bahrain', 'Saudi Arabia', 'Iran', 'Jordan',\n",
       "       'West Bank', 'Kuwait', 'Lebanon', 'United Arab Emirates', 'Oman',\n",
       "       'Pakistan', 'Iraq', 'Syria', 'Qatar', 'Northern Mariana Islands',\n",
       "       'Guam', 'Marshall Islands', 'Midway Islands', 'Micronesia',\n",
       "       'Palau', 'Taiwan', 'Japan', 'South Korea', 'Philippines',\n",
       "       'Argentina', 'Brazil', 'Chile', 'Ecuador', 'Paraguay', 'Colombia',\n",
       "       'Bolivia', 'Suriname', 'French Guiana', 'Peru', 'Uruguay',\n",
       "       'Venezuela', 'Guyana', 'Antigua and Barbuda', 'Barbados',\n",
       "       'Dominica', 'Martinique', 'Guadeloupe', 'Grenada',\n",
       "       'Virgin Islands', 'Puerto Rico', 'Saint Kitts and Nevis',\n",
       "       'Saint Lucia', 'Aruba', 'Netherlands Antilles', 'Anguilla',\n",
       "       'Trinidad and Tobago', 'British Virgin Islands',\n",
       "       'Saint Vincent and the Grenadines', 'Kazakhstan', 'Kyrgyzstan',\n",
       "       'Azerbaijan', 'Russia', 'Ukraine', 'Belarus', 'Turkmenistan',\n",
       "       'Tajikistan', 'Uzbekistan', 'India', 'Sri Lanka', 'Cambodia',\n",
       "       'Bangladesh', 'Hong Kong', 'Laos', 'Macau', 'Nepal', 'Bhutan',\n",
       "       'Maldives', 'Thailand', 'Vietnam', 'Burma', 'Indonesia',\n",
       "       'Malaysia', 'Brunei', 'East Timor', 'Singapore', 'Australia',\n",
       "       'Christmas Island', 'Norfolk Island', 'China', 'North Korea',\n",
       "       'Mongolia', 'United States', 'Latvia', 'Lithuania', 'Armenia',\n",
       "       'Eritrea', 'Palestine', 'Georgia', 'Yemen', 'Bermuda',\n",
       "       'Solomon Islands', 'Nauru', 'Tuvalu', 'Namibia', 'Djibouti',\n",
       "       'Montserrat', 'Johnston Atoll', 'Western Sahara', 'Niue',\n",
       "       'Cocos (Keeling) Islands', 'Myanmar', 'Svalbard', 'Wake Island'],\n",
       "      dtype=object)"
      ]
     },
     "execution_count": 3,
     "metadata": {},
     "output_type": "execute_result"
    }
   ],
   "source": [
    "airports_df.head()\n",
    "airports_df['country'].unique()"
   ]
  },
  {
   "cell_type": "code",
   "execution_count": 4,
   "metadata": {},
   "outputs": [
    {
     "data": {
      "text/plain": [
       "id          0\n",
       "name        0\n",
       "city        0\n",
       "country     0\n",
       "iata        0\n",
       "icao        0\n",
       "lat         0\n",
       "lon         0\n",
       "alt         0\n",
       "timezone    0\n",
       "dst         0\n",
       "tz          0\n",
       "type        0\n",
       "source      0\n",
       "dtype: int64"
      ]
     },
     "execution_count": 4,
     "metadata": {},
     "output_type": "execute_result"
    }
   ],
   "source": [
    "us_air =airports_df[airports_df['country']== 'United States']\n",
    "us_air.isna().sum()"
   ]
  },
  {
   "cell_type": "code",
   "execution_count": 5,
   "metadata": {},
   "outputs": [
    {
     "name": "stdout",
     "output_type": "stream",
     "text": [
      "<class 'pandas.core.frame.DataFrame'>\n",
      "Int64Index: 1512 entries, 3212 to 7665\n",
      "Data columns (total 14 columns):\n",
      " #   Column    Non-Null Count  Dtype  \n",
      "---  ------    --------------  -----  \n",
      " 0   id        1512 non-null   int64  \n",
      " 1   name      1512 non-null   object \n",
      " 2   city      1512 non-null   object \n",
      " 3   country   1512 non-null   object \n",
      " 4   iata      1512 non-null   object \n",
      " 5   icao      1512 non-null   object \n",
      " 6   lat       1512 non-null   float64\n",
      " 7   lon       1512 non-null   float64\n",
      " 8   alt       1512 non-null   int64  \n",
      " 9   timezone  1512 non-null   object \n",
      " 10  dst       1512 non-null   object \n",
      " 11  tz        1512 non-null   object \n",
      " 12  type      1512 non-null   object \n",
      " 13  source    1512 non-null   object \n",
      "dtypes: float64(2), int64(2), object(10)\n",
      "memory usage: 177.2+ KB\n"
     ]
    }
   ],
   "source": [
    "us_air.info()\n"
   ]
  },
  {
   "cell_type": "code",
   "execution_count": 11,
   "metadata": {},
   "outputs": [],
   "source": [
    "%matplotlib inline\n",
    "# import plotly.plotly as py \n",
    "import chart_studio.plotly as py\n",
    "import plotly.graph_objs as go \n",
    "from plotly.offline import download_plotlyjs, init_notebook_mode, iplot, plot\n"
   ]
  },
  {
   "cell_type": "code",
   "execution_count": 14,
   "metadata": {},
   "outputs": [
    {
     "data": {
      "text/html": [
       "<div>\n",
       "<style scoped>\n",
       "    .dataframe tbody tr th:only-of-type {\n",
       "        vertical-align: middle;\n",
       "    }\n",
       "\n",
       "    .dataframe tbody tr th {\n",
       "        vertical-align: top;\n",
       "    }\n",
       "\n",
       "    .dataframe thead th {\n",
       "        text-align: right;\n",
       "    }\n",
       "</style>\n",
       "<table border=\"1\" class=\"dataframe\">\n",
       "  <thead>\n",
       "    <tr style=\"text-align: right;\">\n",
       "      <th></th>\n",
       "      <th>Unnamed: 0</th>\n",
       "      <th>id</th>\n",
       "      <th>title</th>\n",
       "      <th>release_date</th>\n",
       "      <th>original_language</th>\n",
       "      <th>original_title</th>\n",
       "      <th>genre_ids</th>\n",
       "      <th>overview</th>\n",
       "    </tr>\n",
       "  </thead>\n",
       "  <tbody>\n",
       "    <tr>\n",
       "      <th>0</th>\n",
       "      <td>0</td>\n",
       "      <td>580489</td>\n",
       "      <td>Venom: Let There Be Carnage</td>\n",
       "      <td>2021-06-23</td>\n",
       "      <td>en</td>\n",
       "      <td>Venom: Let There Be Carnage</td>\n",
       "      <td>28.0</td>\n",
       "      <td>Sequel to the box-office hit film \"Venom.\"</td>\n",
       "    </tr>\n",
       "    <tr>\n",
       "      <th>1</th>\n",
       "      <td>1</td>\n",
       "      <td>287947</td>\n",
       "      <td>Shazam!</td>\n",
       "      <td>2019-03-29</td>\n",
       "      <td>en</td>\n",
       "      <td>Shazam!</td>\n",
       "      <td>28.0</td>\n",
       "      <td>A boy is given the ability to become an adult ...</td>\n",
       "    </tr>\n",
       "    <tr>\n",
       "      <th>2</th>\n",
       "      <td>2</td>\n",
       "      <td>422803</td>\n",
       "      <td>A Shaun the Sheep Movie: Farmageddon</td>\n",
       "      <td>2019-09-26</td>\n",
       "      <td>en</td>\n",
       "      <td>A Shaun the Sheep Movie: Farmageddon</td>\n",
       "      <td>35.0</td>\n",
       "      <td>When an alien with amazing powers crash-lands ...</td>\n",
       "    </tr>\n",
       "    <tr>\n",
       "      <th>3</th>\n",
       "      <td>3</td>\n",
       "      <td>373571</td>\n",
       "      <td>Godzilla: King of the Monsters</td>\n",
       "      <td>2019-05-29</td>\n",
       "      <td>en</td>\n",
       "      <td>Godzilla: King of the Monsters</td>\n",
       "      <td>878.0</td>\n",
       "      <td>Follows the heroic efforts of the crypto-zoolo...</td>\n",
       "    </tr>\n",
       "    <tr>\n",
       "      <th>4</th>\n",
       "      <td>4</td>\n",
       "      <td>479455</td>\n",
       "      <td>Men in Black: International</td>\n",
       "      <td>2019-06-12</td>\n",
       "      <td>en</td>\n",
       "      <td>Men in Black: International</td>\n",
       "      <td>35.0</td>\n",
       "      <td>The Men in Black have always protected the Ear...</td>\n",
       "    </tr>\n",
       "  </tbody>\n",
       "</table>\n",
       "</div>"
      ],
      "text/plain": [
       "   Unnamed: 0      id                                 title release_date  \\\n",
       "0           0  580489           Venom: Let There Be Carnage   2021-06-23   \n",
       "1           1  287947                               Shazam!   2019-03-29   \n",
       "2           2  422803  A Shaun the Sheep Movie: Farmageddon   2019-09-26   \n",
       "3           3  373571        Godzilla: King of the Monsters   2019-05-29   \n",
       "4           4  479455           Men in Black: International   2019-06-12   \n",
       "\n",
       "  original_language                        original_title  genre_ids  \\\n",
       "0                en           Venom: Let There Be Carnage       28.0   \n",
       "1                en                               Shazam!       28.0   \n",
       "2                en  A Shaun the Sheep Movie: Farmageddon       35.0   \n",
       "3                en        Godzilla: King of the Monsters      878.0   \n",
       "4                en           Men in Black: International       35.0   \n",
       "\n",
       "                                            overview  \n",
       "0         Sequel to the box-office hit film \"Venom.\"  \n",
       "1  A boy is given the ability to become an adult ...  \n",
       "2  When an alien with amazing powers crash-lands ...  \n",
       "3  Follows the heroic efforts of the crypto-zoolo...  \n",
       "4  The Men in Black have always protected the Ear...  "
      ]
     },
     "execution_count": 14,
     "metadata": {},
     "output_type": "execute_result"
    }
   ],
   "source": [
    "mov = pd.read_csv(\"movies.csv\")\n",
    "mov.head()"
   ]
  },
  {
   "cell_type": "code",
   "execution_count": null,
   "metadata": {},
   "outputs": [],
   "source": []
  }
 ],
 "metadata": {
  "kernelspec": {
   "display_name": "Python 3",
   "language": "python",
   "name": "python3"
  },
  "language_info": {
   "codemirror_mode": {
    "name": "ipython",
    "version": 3
   },
   "file_extension": ".py",
   "mimetype": "text/x-python",
   "name": "python",
   "nbconvert_exporter": "python",
   "pygments_lexer": "ipython3",
   "version": "3.8.5"
  }
 },
 "nbformat": 4,
 "nbformat_minor": 4
}
