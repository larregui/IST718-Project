{
 "cells": [
  {
   "cell_type": "code",
   "execution_count": 1,
   "metadata": {},
   "outputs": [],
   "source": [
    "import pandas as pd #data frame operations\n",
    "import numpy as np #arrays and math functions\n",
    "from scipy.stats import uniform #for training and test splits\n",
    "import statsmodels.api as sm  # statistical models (including regression)\n",
    "import statsmodels.formula.api as smf  # R-like model specification\n",
    "import matplotlib.pyplot as plt #2D plotting\n",
    "import seaborn as sns #seaborn for plotting\n",
    "from sklearn.linear_model import LinearRegression\n",
    "import plotly.graph_objs as go\n",
    "from plotly import tools\n",
    "from plotly.offline import iplot, init_notebook_mode"
   ]
  },
  {
   "cell_type": "code",
   "execution_count": 6,
   "metadata": {},
   "outputs": [],
   "source": [
    "# airport = pd.read_csv('us-airports.csv')\n",
    "airports_url = 'https://raw.githubusercontent.com/jpatokal/openflights/master/data/airports.dat'\n",
    "# airlines_url = 'https://raw.githubusercontent.com/jpatokal/openflights/master/data/airlines.dat'\n",
    "\n",
    "airports_df = pd.read_csv(airports_url, header=None, \n",
    "                          names=['id', 'name', 'city', 'country', 'iata', 'icao', 'lat', 'lon', \n",
    "                                 'alt', 'timezone', 'dst', 'tz', 'type', 'source'])"
   ]
  },
  {
   "cell_type": "code",
   "execution_count": 8,
   "metadata": {},
   "outputs": [
    {
     "data": {
      "text/plain": [
       "array(['Papua New Guinea', 'Greenland', 'Iceland', 'Canada', 'Algeria',\n",
       "       'Benin', 'Burkina Faso', 'Ghana', \"Cote d'Ivoire\", 'Nigeria',\n",
       "       'Niger', 'Tunisia', 'Togo', 'Belgium', 'Germany', 'Estonia',\n",
       "       'Finland', 'United Kingdom', 'Guernsey', 'Jersey', 'Isle of Man',\n",
       "       'Falkland Islands', 'Netherlands', 'Ireland', 'Denmark',\n",
       "       'Faroe Islands', 'Luxembourg', 'Norway', 'Poland', 'Sweden',\n",
       "       'South Africa', 'Botswana', 'Congo (Brazzaville)',\n",
       "       'Congo (Kinshasa)', 'Swaziland', 'Central African Republic',\n",
       "       'Equatorial Guinea', 'Saint Helena', 'Mauritius',\n",
       "       'British Indian Ocean Territory', 'Cameroon', 'Zambia', 'Comoros',\n",
       "       'Mayotte', 'Reunion', 'Madagascar', 'Angola', 'Gabon',\n",
       "       'Sao Tome and Principe', 'Mozambique', 'Seychelles', 'Chad',\n",
       "       'Zimbabwe', 'Malawi', 'Lesotho', 'Mali', 'Gambia', 'Spain',\n",
       "       'Sierra Leone', 'Guinea-Bissau', 'Liberia', 'Morocco', 'Senegal',\n",
       "       'Mauritania', 'Guinea', 'Cape Verde', 'Ethiopia', 'Burundi',\n",
       "       'Somalia', 'Egypt', 'Kenya', 'Libya', 'Rwanda', 'Sudan',\n",
       "       'South Sudan', 'Tanzania', 'Uganda', 'Albania', 'Bulgaria',\n",
       "       'Cyprus', 'Croatia', 'France', 'Saint Pierre and Miquelon',\n",
       "       'Greece', 'Hungary', 'Italy', 'Slovenia', 'Czech Republic',\n",
       "       'Israel', 'Malta', 'Austria', 'Portugal', 'Bosnia and Herzegovina',\n",
       "       'Romania', 'Switzerland', 'Turkey', 'Moldova', 'Macedonia',\n",
       "       'Gibraltar', 'Serbia', 'Montenegro', 'Slovakia',\n",
       "       'Turks and Caicos Islands', 'Dominican Republic', 'Guatemala',\n",
       "       'Honduras', 'Jamaica', 'Mexico', 'Nicaragua', 'Panama',\n",
       "       'Costa Rica', 'El Salvador', 'Haiti', 'Cuba', 'Cayman Islands',\n",
       "       'Bahamas', 'Belize', 'Cook Islands', 'Fiji', 'Tonga', 'Kiribati',\n",
       "       'Wallis and Futuna', 'Samoa', 'American Samoa', 'French Polynesia',\n",
       "       'Vanuatu', 'New Caledonia', 'New Zealand', 'Antarctica',\n",
       "       'Afghanistan', 'Bahrain', 'Saudi Arabia', 'Iran', 'Jordan',\n",
       "       'West Bank', 'Kuwait', 'Lebanon', 'United Arab Emirates', 'Oman',\n",
       "       'Pakistan', 'Iraq', 'Syria', 'Qatar', 'Northern Mariana Islands',\n",
       "       'Guam', 'Marshall Islands', 'Midway Islands', 'Micronesia',\n",
       "       'Palau', 'Taiwan', 'Japan', 'South Korea', 'Philippines',\n",
       "       'Argentina', 'Brazil', 'Chile', 'Ecuador', 'Paraguay', 'Colombia',\n",
       "       'Bolivia', 'Suriname', 'French Guiana', 'Peru', 'Uruguay',\n",
       "       'Venezuela', 'Guyana', 'Antigua and Barbuda', 'Barbados',\n",
       "       'Dominica', 'Martinique', 'Guadeloupe', 'Grenada',\n",
       "       'Virgin Islands', 'Puerto Rico', 'Saint Kitts and Nevis',\n",
       "       'Saint Lucia', 'Aruba', 'Netherlands Antilles', 'Anguilla',\n",
       "       'Trinidad and Tobago', 'British Virgin Islands',\n",
       "       'Saint Vincent and the Grenadines', 'Kazakhstan', 'Kyrgyzstan',\n",
       "       'Azerbaijan', 'Russia', 'Ukraine', 'Belarus', 'Turkmenistan',\n",
       "       'Tajikistan', 'Uzbekistan', 'India', 'Sri Lanka', 'Cambodia',\n",
       "       'Bangladesh', 'Hong Kong', 'Laos', 'Macau', 'Nepal', 'Bhutan',\n",
       "       'Maldives', 'Thailand', 'Vietnam', 'Burma', 'Indonesia',\n",
       "       'Malaysia', 'Brunei', 'East Timor', 'Singapore', 'Australia',\n",
       "       'Christmas Island', 'Norfolk Island', 'China', 'North Korea',\n",
       "       'Mongolia', 'United States', 'Latvia', 'Lithuania', 'Armenia',\n",
       "       'Eritrea', 'Palestine', 'Georgia', 'Yemen', 'Bermuda',\n",
       "       'Solomon Islands', 'Nauru', 'Tuvalu', 'Namibia', 'Djibouti',\n",
       "       'Montserrat', 'Johnston Atoll', 'Western Sahara', 'Niue',\n",
       "       'Cocos (Keeling) Islands', 'Myanmar', 'Svalbard', 'Wake Island'],\n",
       "      dtype=object)"
      ]
     },
     "execution_count": 8,
     "metadata": {},
     "output_type": "execute_result"
    }
   ],
   "source": [
    "airports_df.head()\n",
    "airports_df['country'].unique()"
   ]
  },
  {
   "cell_type": "code",
   "execution_count": 12,
   "metadata": {},
   "outputs": [
    {
     "data": {
      "text/plain": [
       "id          0\n",
       "name        0\n",
       "city        0\n",
       "country     0\n",
       "iata        0\n",
       "icao        0\n",
       "lat         0\n",
       "lon         0\n",
       "alt         0\n",
       "timezone    0\n",
       "dst         0\n",
       "tz          0\n",
       "type        0\n",
       "source      0\n",
       "dtype: int64"
      ]
     },
     "execution_count": 12,
     "metadata": {},
     "output_type": "execute_result"
    }
   ],
   "source": [
    "us_air =airports_df[airports_df['country']== 'United States']\n",
    "us_air.isna().sum()"
   ]
  },
  {
   "cell_type": "code",
   "execution_count": 13,
   "metadata": {},
   "outputs": [
    {
     "name": "stdout",
     "output_type": "stream",
     "text": [
      "<class 'pandas.core.frame.DataFrame'>\n",
      "Int64Index: 1512 entries, 3212 to 7665\n",
      "Data columns (total 14 columns):\n",
      " #   Column    Non-Null Count  Dtype  \n",
      "---  ------    --------------  -----  \n",
      " 0   id        1512 non-null   int64  \n",
      " 1   name      1512 non-null   object \n",
      " 2   city      1512 non-null   object \n",
      " 3   country   1512 non-null   object \n",
      " 4   iata      1512 non-null   object \n",
      " 5   icao      1512 non-null   object \n",
      " 6   lat       1512 non-null   float64\n",
      " 7   lon       1512 non-null   float64\n",
      " 8   alt       1512 non-null   int64  \n",
      " 9   timezone  1512 non-null   object \n",
      " 10  dst       1512 non-null   object \n",
      " 11  tz        1512 non-null   object \n",
      " 12  type      1512 non-null   object \n",
      " 13  source    1512 non-null   object \n",
      "dtypes: float64(2), int64(2), object(10)\n",
      "memory usage: 177.2+ KB\n"
     ]
    }
   ],
   "source": [
    "us_air.info()\n"
   ]
  },
  {
   "cell_type": "code",
   "execution_count": null,
   "metadata": {},
   "outputs": [],
   "source": []
  }
 ],
 "metadata": {
  "kernelspec": {
   "display_name": "Python 3",
   "language": "python",
   "name": "python3"
  },
  "language_info": {
   "codemirror_mode": {
    "name": "ipython",
    "version": 3
   },
   "file_extension": ".py",
   "mimetype": "text/x-python",
   "name": "python",
   "nbconvert_exporter": "python",
   "pygments_lexer": "ipython3",
   "version": "3.8.3"
  }
 },
 "nbformat": 4,
 "nbformat_minor": 4
}
