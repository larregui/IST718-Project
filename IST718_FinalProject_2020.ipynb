{
  "nbformat": 4,
  "nbformat_minor": 0,
  "metadata": {
    "colab": {
      "name": "IST718_FinalProject_2020.ipynb",
      "provenance": [],
      "authorship_tag": "ABX9TyOQwZJObUyWmc5NS0B7zm/d",
      "include_colab_link": true
    },
    "kernelspec": {
      "name": "python3",
      "display_name": "Python 3"
    }
  },
  "cells": [
    {
      "cell_type": "markdown",
      "metadata": {
        "id": "view-in-github",
        "colab_type": "text"
      },
      "source": [
        "<a href=\"https://colab.research.google.com/github/larregui/IST718-Project/blob/main/IST718_FinalProject_2020.ipynb\" target=\"_parent\"><img src=\"https://colab.research.google.com/assets/colab-badge.svg\" alt=\"Open In Colab\"/></a>"
      ]
    },
    {
      "cell_type": "markdown",
      "metadata": {
        "id": "hKnAD5Neaf3Q"
      },
      "source": [
        "# Title: Out of This World\n",
        "# Author: Laura & Tiffannie\n",
        "# Purpose: Final Project for IST 718 Big Data Analytics\n",
        "# Professor: Jon Fox\n"
      ]
    },
    {
      "cell_type": "markdown",
      "metadata": {
        "id": "OkE94Z29a70Q"
      },
      "source": [
        "### Import Libraries\n",
        "\n"
      ]
    },
    {
      "cell_type": "markdown",
      "metadata": {
        "id": "67Ve9i5sbLK0"
      },
      "source": [
        "### Import Dataset and Cleanup"
      ]
    },
    {
      "cell_type": "markdown",
      "metadata": {
        "id": "Wfwxtt5jbQd-"
      },
      "source": [
        "### Initial data analysis\n"
      ]
    },
    {
      "cell_type": "markdown",
      "metadata": {
        "id": "1mZzAyZucTNt"
      },
      "source": [
        "### Models\n"
      ]
    },
    {
      "cell_type": "markdown",
      "metadata": {
        "id": "H78TmCrCcz3G"
      },
      "source": [
        "### Questions"
      ]
    }
  ]
}