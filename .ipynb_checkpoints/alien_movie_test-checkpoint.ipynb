{
 "cells": [
  {
   "cell_type": "code",
   "execution_count": 2,
   "metadata": {},
   "outputs": [
    {
     "name": "stderr",
     "output_type": "stream",
     "text": [
      "C:\\Users\\tmacd\\Anaconda3\\lib\\site-packages\\statsmodels\\tools\\_testing.py:19: FutureWarning: pandas.util.testing is deprecated. Use the functions in the public API at pandas.testing instead.\n",
      "  import pandas.util.testing as tm\n"
     ]
    }
   ],
   "source": [
    "import pandas as pd #data frame operations\n",
    "import numpy as np #arrays and math functions\n",
    "from scipy.stats import uniform #for training and test splits\n",
    "import statsmodels.api as sm  # statistical models (including regression)"
   ]
  },
  {
   "cell_type": "code",
   "execution_count": 6,
   "metadata": {},
   "outputs": [
    {
     "ename": "SyntaxError",
     "evalue": "invalid syntax (<ipython-input-6-f5124c7953c0>, line 13)",
     "output_type": "error",
     "traceback": [
      "\u001b[1;36m  File \u001b[1;32m\"<ipython-input-6-f5124c7953c0>\"\u001b[1;36m, line \u001b[1;32m13\u001b[0m\n\u001b[1;33m    alien.drop(alien[,3:4])\u001b[0m\n\u001b[1;37m                     ^\u001b[0m\n\u001b[1;31mSyntaxError\u001b[0m\u001b[1;31m:\u001b[0m invalid syntax\n"
     ]
    }
   ],
   "source": [
    "# read in Alien Movie data\n",
    "alien = pd.read_csv(\"alien_movies.csv\")\n",
    "# shape and data types of the data\n",
    "print(\"What are the dimensions of the dataset?\\n\",alien.shape)\n",
    "print(\"What are the datatypes for each variable?\\n\",alien.dtypes)\n",
    "# compute descriptive statistics \n",
    "print(\"Descriptive Statistics\\n\",alien.describe())\n",
    "# % of missing.\n",
    "for col in alien.columns:\n",
    "    pct_missing = np.mean(alien[col].isnull())\n",
    "    print(\"Are there any null values?\\n\",'{} - {}%'.format(col, round(pct_missing*100)))\n",
    "    \n",
    "alien.drop(alien[,3:4])"
   ]
  },
  {
   "cell_type": "code",
   "execution_count": null,
   "metadata": {},
   "outputs": [],
   "source": []
  }
 ],
 "metadata": {
  "kernelspec": {
   "display_name": "Python 3",
   "language": "python",
   "name": "python3"
  }
 },
 "nbformat": 4,
 "nbformat_minor": 2
}
